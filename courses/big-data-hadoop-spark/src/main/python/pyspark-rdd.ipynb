{
  "nbformat": 4,
  "nbformat_minor": 0,
  "metadata": {
    "colab": {
      "name": "PySpark_RDD.ipynb",
      "provenance": [],
      "collapsed_sections": []
    },
    "kernelspec": {
      "name": "python3",
      "display_name": "Python 3"
    }
  },
  "cells": [
    {
      "cell_type": "markdown",
      "metadata": {
        "id": "QZ5u_3-zlzjU",
        "colab_type": "text"
      },
      "source": [
        "## Install JDK\n",
        "## Install Spark\n",
        "## Set Environment variables\n",
        "## Create a Spark Session"
      ]
    },
    {
      "cell_type": "code",
      "metadata": {
        "id": "HP2q-spF9dGi",
        "colab_type": "code",
        "outputId": "f0819e1c-d4a4-4d74-8260-a52433949cb3",
        "colab": {
          "base_uri": "https://localhost:8080/",
          "height": 1000
        }
      },
      "source": [
        "!apt-get install openjdk-8-jdk-headless -qq > /dev/null\n",
        "!wget -q https://archive.apache.org/dist/spark/spark-2.4.3/spark-2.4.3-bin-hadoop2.6.tgz\n",
        "!tar -xvf spark-2.4.3-bin-hadoop2.6.tgz\n",
        "!pip install -q findspark\n",
        "import os\n",
        "os.environ[\"JAVA_HOME\"] = \"/usr/lib/jvm/java-8-openjdk-amd64\"\n",
        "os.environ[\"SPARK_HOME\"] = \"/content/spark-2.4.3-bin-hadoop2.6\"\n",
        "import findspark\n",
        "findspark.init()\n",
        "from pyspark.sql import SparkSession\n",
        "spark = SparkSession.builder.master(\"local[*]\").getOrCreate()"
      ],
      "execution_count": 1,
      "outputs": [
        {
          "output_type": "stream",
          "text": [
            "spark-2.4.3-bin-hadoop2.6/\n",
            "spark-2.4.3-bin-hadoop2.6/python/\n",
            "spark-2.4.3-bin-hadoop2.6/python/setup.cfg\n",
            "spark-2.4.3-bin-hadoop2.6/python/pyspark/\n",
            "spark-2.4.3-bin-hadoop2.6/python/pyspark/resultiterable.py\n",
            "spark-2.4.3-bin-hadoop2.6/python/pyspark/heapq3.py\n",
            "spark-2.4.3-bin-hadoop2.6/python/pyspark/join.py\n",
            "spark-2.4.3-bin-hadoop2.6/python/pyspark/version.py\n",
            "spark-2.4.3-bin-hadoop2.6/python/pyspark/rdd.py\n",
            "spark-2.4.3-bin-hadoop2.6/python/pyspark/java_gateway.py\n",
            "spark-2.4.3-bin-hadoop2.6/python/pyspark/find_spark_home.py\n",
            "spark-2.4.3-bin-hadoop2.6/python/pyspark/_globals.py\n",
            "spark-2.4.3-bin-hadoop2.6/python/pyspark/worker.py\n",
            "spark-2.4.3-bin-hadoop2.6/python/pyspark/accumulators.py\n",
            "spark-2.4.3-bin-hadoop2.6/python/pyspark/mllib/\n",
            "spark-2.4.3-bin-hadoop2.6/python/pyspark/mllib/feature.py\n",
            "spark-2.4.3-bin-hadoop2.6/python/pyspark/mllib/random.py\n",
            "spark-2.4.3-bin-hadoop2.6/python/pyspark/mllib/recommendation.py\n",
            "spark-2.4.3-bin-hadoop2.6/python/pyspark/mllib/fpm.py\n",
            "spark-2.4.3-bin-hadoop2.6/python/pyspark/mllib/classification.py\n",
            "spark-2.4.3-bin-hadoop2.6/python/pyspark/mllib/stat/\n",
            "spark-2.4.3-bin-hadoop2.6/python/pyspark/mllib/stat/KernelDensity.py\n",
            "spark-2.4.3-bin-hadoop2.6/python/pyspark/mllib/stat/distribution.py\n",
            "spark-2.4.3-bin-hadoop2.6/python/pyspark/mllib/stat/test.py\n",
            "spark-2.4.3-bin-hadoop2.6/python/pyspark/mllib/stat/_statistics.py\n",
            "spark-2.4.3-bin-hadoop2.6/python/pyspark/mllib/stat/__init__.py\n",
            "spark-2.4.3-bin-hadoop2.6/python/pyspark/mllib/util.py\n",
            "spark-2.4.3-bin-hadoop2.6/python/pyspark/mllib/regression.py\n",
            "spark-2.4.3-bin-hadoop2.6/python/pyspark/mllib/clustering.py\n",
            "spark-2.4.3-bin-hadoop2.6/python/pyspark/mllib/linalg/\n",
            "spark-2.4.3-bin-hadoop2.6/python/pyspark/mllib/linalg/distributed.py\n",
            "spark-2.4.3-bin-hadoop2.6/python/pyspark/mllib/linalg/__init__.py\n",
            "spark-2.4.3-bin-hadoop2.6/python/pyspark/mllib/tree.py\n",
            "spark-2.4.3-bin-hadoop2.6/python/pyspark/mllib/__init__.py\n",
            "spark-2.4.3-bin-hadoop2.6/python/pyspark/mllib/evaluation.py\n",
            "spark-2.4.3-bin-hadoop2.6/python/pyspark/mllib/common.py\n",
            "spark-2.4.3-bin-hadoop2.6/python/pyspark/mllib/tests.py\n",
            "spark-2.4.3-bin-hadoop2.6/python/pyspark/util.py\n",
            "spark-2.4.3-bin-hadoop2.6/python/pyspark/test_broadcast.py\n",
            "spark-2.4.3-bin-hadoop2.6/python/pyspark/shell.py\n",
            "spark-2.4.3-bin-hadoop2.6/python/pyspark/ml/\n",
            "spark-2.4.3-bin-hadoop2.6/python/pyspark/ml/feature.py\n",
            "spark-2.4.3-bin-hadoop2.6/python/pyspark/ml/recommendation.py\n",
            "spark-2.4.3-bin-hadoop2.6/python/pyspark/ml/fpm.py\n",
            "spark-2.4.3-bin-hadoop2.6/python/pyspark/ml/classification.py\n",
            "spark-2.4.3-bin-hadoop2.6/python/pyspark/ml/stat.py\n",
            "spark-2.4.3-bin-hadoop2.6/python/pyspark/ml/util.py\n",
            "spark-2.4.3-bin-hadoop2.6/python/pyspark/ml/tuning.py\n",
            "spark-2.4.3-bin-hadoop2.6/python/pyspark/ml/regression.py\n",
            "spark-2.4.3-bin-hadoop2.6/python/pyspark/ml/base.py\n",
            "spark-2.4.3-bin-hadoop2.6/python/pyspark/ml/clustering.py\n",
            "spark-2.4.3-bin-hadoop2.6/python/pyspark/ml/wrapper.py\n",
            "spark-2.4.3-bin-hadoop2.6/python/pyspark/ml/pipeline.py\n",
            "spark-2.4.3-bin-hadoop2.6/python/pyspark/ml/linalg/\n",
            "spark-2.4.3-bin-hadoop2.6/python/pyspark/ml/linalg/__init__.py\n",
            "spark-2.4.3-bin-hadoop2.6/python/pyspark/ml/param/\n",
            "spark-2.4.3-bin-hadoop2.6/python/pyspark/ml/param/_shared_params_code_gen.py\n",
            "spark-2.4.3-bin-hadoop2.6/python/pyspark/ml/param/shared.py\n",
            "spark-2.4.3-bin-hadoop2.6/python/pyspark/ml/param/__init__.py\n",
            "spark-2.4.3-bin-hadoop2.6/python/pyspark/ml/__init__.py\n",
            "spark-2.4.3-bin-hadoop2.6/python/pyspark/ml/evaluation.py\n",
            "spark-2.4.3-bin-hadoop2.6/python/pyspark/ml/common.py\n",
            "spark-2.4.3-bin-hadoop2.6/python/pyspark/ml/tests.py\n",
            "spark-2.4.3-bin-hadoop2.6/python/pyspark/ml/image.py\n",
            "spark-2.4.3-bin-hadoop2.6/python/pyspark/test_serializers.py\n",
            "spark-2.4.3-bin-hadoop2.6/python/pyspark/cloudpickle.py\n",
            "spark-2.4.3-bin-hadoop2.6/python/pyspark/serializers.py\n",
            "spark-2.4.3-bin-hadoop2.6/python/pyspark/daemon.py\n",
            "spark-2.4.3-bin-hadoop2.6/python/pyspark/files.py\n",
            "spark-2.4.3-bin-hadoop2.6/python/pyspark/rddsampler.py\n",
            "spark-2.4.3-bin-hadoop2.6/python/pyspark/statcounter.py\n",
            "spark-2.4.3-bin-hadoop2.6/python/pyspark/streaming/\n",
            "spark-2.4.3-bin-hadoop2.6/python/pyspark/streaming/kafka.py\n",
            "spark-2.4.3-bin-hadoop2.6/python/pyspark/streaming/util.py\n",
            "spark-2.4.3-bin-hadoop2.6/python/pyspark/streaming/kinesis.py\n",
            "spark-2.4.3-bin-hadoop2.6/python/pyspark/streaming/flume.py\n",
            "spark-2.4.3-bin-hadoop2.6/python/pyspark/streaming/__init__.py\n",
            "spark-2.4.3-bin-hadoop2.6/python/pyspark/streaming/context.py\n",
            "spark-2.4.3-bin-hadoop2.6/python/pyspark/streaming/tests.py\n",
            "spark-2.4.3-bin-hadoop2.6/python/pyspark/streaming/dstream.py\n",
            "spark-2.4.3-bin-hadoop2.6/python/pyspark/streaming/listener.py\n",
            "spark-2.4.3-bin-hadoop2.6/python/pyspark/taskcontext.py\n",
            "spark-2.4.3-bin-hadoop2.6/python/pyspark/__init__.py\n",
            "spark-2.4.3-bin-hadoop2.6/python/pyspark/storagelevel.py\n",
            "spark-2.4.3-bin-hadoop2.6/python/pyspark/broadcast.py\n",
            "spark-2.4.3-bin-hadoop2.6/python/pyspark/profiler.py\n",
            "spark-2.4.3-bin-hadoop2.6/python/pyspark/traceback_utils.py\n",
            "spark-2.4.3-bin-hadoop2.6/python/pyspark/context.py\n",
            "spark-2.4.3-bin-hadoop2.6/python/pyspark/status.py\n",
            "spark-2.4.3-bin-hadoop2.6/python/pyspark/sql/\n",
            "spark-2.4.3-bin-hadoop2.6/python/pyspark/sql/streaming.py\n",
            "spark-2.4.3-bin-hadoop2.6/python/pyspark/sql/readwriter.py\n",
            "spark-2.4.3-bin-hadoop2.6/python/pyspark/sql/catalog.py\n",
            "spark-2.4.3-bin-hadoop2.6/python/pyspark/sql/session.py\n",
            "spark-2.4.3-bin-hadoop2.6/python/pyspark/sql/column.py\n",
            "spark-2.4.3-bin-hadoop2.6/python/pyspark/sql/functions.py\n",
            "spark-2.4.3-bin-hadoop2.6/python/pyspark/sql/dataframe.py\n",
            "spark-2.4.3-bin-hadoop2.6/python/pyspark/sql/window.py\n",
            "spark-2.4.3-bin-hadoop2.6/python/pyspark/sql/udf.py\n",
            "spark-2.4.3-bin-hadoop2.6/python/pyspark/sql/__init__.py\n",
            "spark-2.4.3-bin-hadoop2.6/python/pyspark/sql/utils.py\n",
            "spark-2.4.3-bin-hadoop2.6/python/pyspark/sql/group.py\n",
            "spark-2.4.3-bin-hadoop2.6/python/pyspark/sql/context.py\n",
            "spark-2.4.3-bin-hadoop2.6/python/pyspark/sql/tests.py\n",
            "spark-2.4.3-bin-hadoop2.6/python/pyspark/sql/conf.py\n",
            "spark-2.4.3-bin-hadoop2.6/python/pyspark/sql/types.py\n",
            "spark-2.4.3-bin-hadoop2.6/python/pyspark/tests.py\n",
            "spark-2.4.3-bin-hadoop2.6/python/pyspark/conf.py\n",
            "spark-2.4.3-bin-hadoop2.6/python/pyspark/shuffle.py\n",
            "spark-2.4.3-bin-hadoop2.6/python/.gitignore\n",
            "spark-2.4.3-bin-hadoop2.6/python/docs/\n",
            "spark-2.4.3-bin-hadoop2.6/python/docs/epytext.py\n",
            "spark-2.4.3-bin-hadoop2.6/python/docs/make2.bat\n",
            "spark-2.4.3-bin-hadoop2.6/python/docs/pyspark.sql.rst\n",
            "spark-2.4.3-bin-hadoop2.6/python/docs/make.bat\n",
            "spark-2.4.3-bin-hadoop2.6/python/docs/index.rst\n",
            "spark-2.4.3-bin-hadoop2.6/python/docs/_templates/\n",
            "spark-2.4.3-bin-hadoop2.6/python/docs/_templates/layout.html\n",
            "spark-2.4.3-bin-hadoop2.6/python/docs/_static/\n",
            "spark-2.4.3-bin-hadoop2.6/python/docs/_static/pyspark.js\n",
            "spark-2.4.3-bin-hadoop2.6/python/docs/_static/pyspark.css\n",
            "spark-2.4.3-bin-hadoop2.6/python/docs/pyspark.ml.rst\n",
            "spark-2.4.3-bin-hadoop2.6/python/docs/pyspark.streaming.rst\n",
            "spark-2.4.3-bin-hadoop2.6/python/docs/conf.py\n",
            "spark-2.4.3-bin-hadoop2.6/python/docs/pyspark.mllib.rst\n",
            "spark-2.4.3-bin-hadoop2.6/python/docs/pyspark.rst\n",
            "spark-2.4.3-bin-hadoop2.6/python/docs/Makefile\n",
            "spark-2.4.3-bin-hadoop2.6/python/test_coverage/\n",
            "spark-2.4.3-bin-hadoop2.6/python/test_coverage/conf/\n",
            "spark-2.4.3-bin-hadoop2.6/python/test_coverage/conf/spark-defaults.conf\n",
            "spark-2.4.3-bin-hadoop2.6/python/test_coverage/sitecustomize.py\n",
            "spark-2.4.3-bin-hadoop2.6/python/test_coverage/coverage_daemon.py\n",
            "spark-2.4.3-bin-hadoop2.6/python/run-tests-with-coverage\n",
            "spark-2.4.3-bin-hadoop2.6/python/MANIFEST.in\n",
            "spark-2.4.3-bin-hadoop2.6/python/test_support/\n",
            "spark-2.4.3-bin-hadoop2.6/python/test_support/userlibrary.py\n",
            "spark-2.4.3-bin-hadoop2.6/python/test_support/userlib-0.1.zip\n",
            "spark-2.4.3-bin-hadoop2.6/python/test_support/SimpleHTTPServer.py\n",
            "spark-2.4.3-bin-hadoop2.6/python/test_support/hello/\n",
            "spark-2.4.3-bin-hadoop2.6/python/test_support/hello/sub_hello/\n",
            "spark-2.4.3-bin-hadoop2.6/python/test_support/hello/sub_hello/sub_hello.txt\n",
            "spark-2.4.3-bin-hadoop2.6/python/test_support/hello/hello.txt\n",
            "spark-2.4.3-bin-hadoop2.6/python/test_support/sql/\n",
            "spark-2.4.3-bin-hadoop2.6/python/test_support/sql/people_array.json\n",
            "spark-2.4.3-bin-hadoop2.6/python/test_support/sql/text-test.txt\n",
            "spark-2.4.3-bin-hadoop2.6/python/test_support/sql/ages_newlines.csv\n",
            "spark-2.4.3-bin-hadoop2.6/python/test_support/sql/people.json\n",
            "spark-2.4.3-bin-hadoop2.6/python/test_support/sql/parquet_partitioned/\n",
            "spark-2.4.3-bin-hadoop2.6/python/test_support/sql/parquet_partitioned/year=2014/\n",
            "spark-2.4.3-bin-hadoop2.6/python/test_support/sql/parquet_partitioned/year=2014/month=9/\n",
            "spark-2.4.3-bin-hadoop2.6/python/test_support/sql/parquet_partitioned/year=2014/month=9/day=1/\n",
            "spark-2.4.3-bin-hadoop2.6/python/test_support/sql/parquet_partitioned/year=2014/month=9/day=1/part-r-00008.gz.parquet\n",
            "spark-2.4.3-bin-hadoop2.6/python/test_support/sql/parquet_partitioned/year=2014/month=9/day=1/.part-r-00008.gz.parquet.crc\n",
            "spark-2.4.3-bin-hadoop2.6/python/test_support/sql/parquet_partitioned/year=2015/\n",
            "spark-2.4.3-bin-hadoop2.6/python/test_support/sql/parquet_partitioned/year=2015/month=10/\n",
            "spark-2.4.3-bin-hadoop2.6/python/test_support/sql/parquet_partitioned/year=2015/month=10/day=26/\n",
            "spark-2.4.3-bin-hadoop2.6/python/test_support/sql/parquet_partitioned/year=2015/month=10/day=26/part-r-00005.gz.parquet\n",
            "spark-2.4.3-bin-hadoop2.6/python/test_support/sql/parquet_partitioned/year=2015/month=10/day=26/.part-r-00005.gz.parquet.crc\n",
            "spark-2.4.3-bin-hadoop2.6/python/test_support/sql/parquet_partitioned/year=2015/month=10/day=25/\n",
            "spark-2.4.3-bin-hadoop2.6/python/test_support/sql/parquet_partitioned/year=2015/month=10/day=25/.part-r-00002.gz.parquet.crc\n",
            "spark-2.4.3-bin-hadoop2.6/python/test_support/sql/parquet_partitioned/year=2015/month=10/day=25/part-r-00002.gz.parquet\n",
            "spark-2.4.3-bin-hadoop2.6/python/test_support/sql/parquet_partitioned/year=2015/month=10/day=25/part-r-00004.gz.parquet\n",
            "spark-2.4.3-bin-hadoop2.6/python/test_support/sql/parquet_partitioned/year=2015/month=10/day=25/.part-r-00004.gz.parquet.crc\n",
            "spark-2.4.3-bin-hadoop2.6/python/test_support/sql/parquet_partitioned/year=2015/month=9/\n",
            "spark-2.4.3-bin-hadoop2.6/python/test_support/sql/parquet_partitioned/year=2015/month=9/day=1/\n",
            "spark-2.4.3-bin-hadoop2.6/python/test_support/sql/parquet_partitioned/year=2015/month=9/day=1/.part-r-00007.gz.parquet.crc\n",
            "spark-2.4.3-bin-hadoop2.6/python/test_support/sql/parquet_partitioned/year=2015/month=9/day=1/part-r-00007.gz.parquet\n",
            "spark-2.4.3-bin-hadoop2.6/python/test_support/sql/parquet_partitioned/_common_metadata\n",
            "spark-2.4.3-bin-hadoop2.6/python/test_support/sql/parquet_partitioned/_metadata\n",
            "spark-2.4.3-bin-hadoop2.6/python/test_support/sql/parquet_partitioned/_SUCCESS\n",
            "spark-2.4.3-bin-hadoop2.6/python/test_support/sql/streaming/\n",
            "spark-2.4.3-bin-hadoop2.6/python/test_support/sql/streaming/text-test.txt\n",
            "spark-2.4.3-bin-hadoop2.6/python/test_support/sql/ages.csv\n",
            "spark-2.4.3-bin-hadoop2.6/python/test_support/sql/people1.json\n",
            "spark-2.4.3-bin-hadoop2.6/python/test_support/sql/orc_partitioned/\n",
            "spark-2.4.3-bin-hadoop2.6/python/test_support/sql/orc_partitioned/b=0/\n",
            "spark-2.4.3-bin-hadoop2.6/python/test_support/sql/orc_partitioned/b=0/c=0/\n",
            "spark-2.4.3-bin-hadoop2.6/python/test_support/sql/orc_partitioned/b=0/c=0/part-r-00000-829af031-b970-49d6-ad39-30460a0be2c8.orc\n",
            "spark-2.4.3-bin-hadoop2.6/python/test_support/sql/orc_partitioned/b=0/c=0/.part-r-00000-829af031-b970-49d6-ad39-30460a0be2c8.orc.crc\n",
            "spark-2.4.3-bin-hadoop2.6/python/test_support/sql/orc_partitioned/_SUCCESS\n",
            "spark-2.4.3-bin-hadoop2.6/python/test_support/sql/orc_partitioned/b=1/\n",
            "spark-2.4.3-bin-hadoop2.6/python/test_support/sql/orc_partitioned/b=1/c=1/\n",
            "spark-2.4.3-bin-hadoop2.6/python/test_support/sql/orc_partitioned/b=1/c=1/part-r-00000-829af031-b970-49d6-ad39-30460a0be2c8.orc\n",
            "spark-2.4.3-bin-hadoop2.6/python/test_support/sql/orc_partitioned/b=1/c=1/.part-r-00000-829af031-b970-49d6-ad39-30460a0be2c8.orc.crc\n",
            "spark-2.4.3-bin-hadoop2.6/python/test_support/sql/people_array_utf16le.json\n",
            "spark-2.4.3-bin-hadoop2.6/python/run-tests.py\n",
            "spark-2.4.3-bin-hadoop2.6/python/run-tests\n",
            "spark-2.4.3-bin-hadoop2.6/python/.coveragerc\n",
            "spark-2.4.3-bin-hadoop2.6/python/lib/\n",
            "spark-2.4.3-bin-hadoop2.6/python/lib/pyspark.zip\n",
            "spark-2.4.3-bin-hadoop2.6/python/lib/PY4J_LICENSE.txt\n",
            "spark-2.4.3-bin-hadoop2.6/python/lib/py4j-0.10.7-src.zip\n",
            "spark-2.4.3-bin-hadoop2.6/python/setup.py\n",
            "spark-2.4.3-bin-hadoop2.6/python/README.md\n",
            "spark-2.4.3-bin-hadoop2.6/python/pylintrc\n",
            "spark-2.4.3-bin-hadoop2.6/conf/\n",
            "spark-2.4.3-bin-hadoop2.6/conf/fairscheduler.xml.template\n",
            "spark-2.4.3-bin-hadoop2.6/conf/spark-defaults.conf.template\n",
            "spark-2.4.3-bin-hadoop2.6/conf/docker.properties.template\n",
            "spark-2.4.3-bin-hadoop2.6/conf/log4j.properties.template\n",
            "spark-2.4.3-bin-hadoop2.6/conf/metrics.properties.template\n",
            "spark-2.4.3-bin-hadoop2.6/conf/slaves.template\n",
            "spark-2.4.3-bin-hadoop2.6/conf/spark-env.sh.template\n",
            "spark-2.4.3-bin-hadoop2.6/licenses/\n",
            "spark-2.4.3-bin-hadoop2.6/licenses/LICENSE-heapq.txt\n",
            "spark-2.4.3-bin-hadoop2.6/licenses/LICENSE-paranamer.txt\n",
            "spark-2.4.3-bin-hadoop2.6/licenses/LICENSE-graphlib-dot.txt\n",
            "spark-2.4.3-bin-hadoop2.6/licenses/LICENSE-minlog.txt\n",
            "spark-2.4.3-bin-hadoop2.6/licenses/LICENSE-slf4j.txt\n",
            "spark-2.4.3-bin-hadoop2.6/licenses/LICENSE-jquery.txt\n",
            "spark-2.4.3-bin-hadoop2.6/licenses/LICENSE-scopt.txt\n",
            "spark-2.4.3-bin-hadoop2.6/licenses/LICENSE-vis.txt\n",
            "spark-2.4.3-bin-hadoop2.6/licenses/LICENSE-sbt-launch-lib.txt\n",
            "spark-2.4.3-bin-hadoop2.6/licenses/LICENSE-spire.txt\n",
            "spark-2.4.3-bin-hadoop2.6/licenses/LICENSE-matchMedia-polyfill.txt\n",
            "spark-2.4.3-bin-hadoop2.6/licenses/LICENSE-kryo.txt\n",
            "spark-2.4.3-bin-hadoop2.6/licenses/LICENSE-mustache.txt\n",
            "spark-2.4.3-bin-hadoop2.6/licenses/LICENSE-arpack.txt\n",
            "spark-2.4.3-bin-hadoop2.6/licenses/LICENSE-scala.txt\n",
            "spark-2.4.3-bin-hadoop2.6/licenses/LICENSE-javassist.html\n",
            "spark-2.4.3-bin-hadoop2.6/licenses/LICENSE-json-formatter.txt\n",
            "spark-2.4.3-bin-hadoop2.6/licenses/LICENSE-jodd.txt\n",
            "spark-2.4.3-bin-hadoop2.6/licenses/LICENSE-automaton.txt\n",
            "spark-2.4.3-bin-hadoop2.6/licenses/LICENSE-janino.txt\n",
            "spark-2.4.3-bin-hadoop2.6/licenses/LICENSE-dagre-d3.txt\n",
            "spark-2.4.3-bin-hadoop2.6/licenses/LICENSE-sorttable.js.txt\n",
            "spark-2.4.3-bin-hadoop2.6/licenses/LICENSE-py4j.txt\n",
            "spark-2.4.3-bin-hadoop2.6/licenses/LICENSE-d3.min.js.txt\n",
            "spark-2.4.3-bin-hadoop2.6/licenses/LICENSE-respond.txt\n",
            "spark-2.4.3-bin-hadoop2.6/licenses/LICENSE-CC0.txt\n",
            "spark-2.4.3-bin-hadoop2.6/licenses/LICENSE-zstd.txt\n",
            "spark-2.4.3-bin-hadoop2.6/licenses/LICENSE-cloudpickle.txt\n",
            "spark-2.4.3-bin-hadoop2.6/licenses/LICENSE-pmml-model.txt\n",
            "spark-2.4.3-bin-hadoop2.6/licenses/LICENSE-pyrolite.txt\n",
            "spark-2.4.3-bin-hadoop2.6/licenses/LICENSE-netlib.txt\n",
            "spark-2.4.3-bin-hadoop2.6/licenses/LICENSE-AnchorJS.txt\n",
            "spark-2.4.3-bin-hadoop2.6/licenses/LICENSE-modernizr.txt\n",
            "spark-2.4.3-bin-hadoop2.6/licenses/LICENSE-machinist.txt\n",
            "spark-2.4.3-bin-hadoop2.6/licenses/LICENSE-javolution.txt\n",
            "spark-2.4.3-bin-hadoop2.6/licenses/LICENSE-xmlenc.txt\n",
            "spark-2.4.3-bin-hadoop2.6/licenses/LICENSE-join.txt\n",
            "spark-2.4.3-bin-hadoop2.6/licenses/LICENSE-jline.txt\n",
            "spark-2.4.3-bin-hadoop2.6/licenses/LICENSE-antlr.txt\n",
            "spark-2.4.3-bin-hadoop2.6/licenses/LICENSE-jtransforms.html\n",
            "spark-2.4.3-bin-hadoop2.6/licenses/LICENSE-leveldbjni.txt\n",
            "spark-2.4.3-bin-hadoop2.6/licenses/LICENSE-protobuf.txt\n",
            "spark-2.4.3-bin-hadoop2.6/licenses/LICENSE-bootstrap.txt\n",
            "spark-2.4.3-bin-hadoop2.6/licenses/LICENSE-zstd-jni.txt\n",
            "spark-2.4.3-bin-hadoop2.6/licenses/LICENSE-datatables.txt\n",
            "spark-2.4.3-bin-hadoop2.6/licenses/LICENSE-f2j.txt\n",
            "spark-2.4.3-bin-hadoop2.6/licenses/LICENSE-reflectasm.txt\n",
            "spark-2.4.3-bin-hadoop2.6/sbin/\n",
            "spark-2.4.3-bin-hadoop2.6/sbin/start-slave.sh\n",
            "spark-2.4.3-bin-hadoop2.6/sbin/stop-history-server.sh\n",
            "spark-2.4.3-bin-hadoop2.6/sbin/stop-slave.sh\n",
            "spark-2.4.3-bin-hadoop2.6/sbin/stop-mesos-dispatcher.sh\n",
            "spark-2.4.3-bin-hadoop2.6/sbin/start-all.sh\n",
            "spark-2.4.3-bin-hadoop2.6/sbin/spark-daemon.sh\n",
            "spark-2.4.3-bin-hadoop2.6/sbin/start-master.sh\n",
            "spark-2.4.3-bin-hadoop2.6/sbin/spark-daemons.sh\n",
            "spark-2.4.3-bin-hadoop2.6/sbin/spark-config.sh\n",
            "spark-2.4.3-bin-hadoop2.6/sbin/start-slaves.sh\n",
            "spark-2.4.3-bin-hadoop2.6/sbin/start-mesos-shuffle-service.sh\n",
            "spark-2.4.3-bin-hadoop2.6/sbin/start-history-server.sh\n",
            "spark-2.4.3-bin-hadoop2.6/sbin/start-shuffle-service.sh\n",
            "spark-2.4.3-bin-hadoop2.6/sbin/slaves.sh\n",
            "spark-2.4.3-bin-hadoop2.6/sbin/stop-slaves.sh\n",
            "spark-2.4.3-bin-hadoop2.6/sbin/stop-thriftserver.sh\n",
            "spark-2.4.3-bin-hadoop2.6/sbin/stop-master.sh\n",
            "spark-2.4.3-bin-hadoop2.6/sbin/stop-shuffle-service.sh\n",
            "spark-2.4.3-bin-hadoop2.6/sbin/start-mesos-dispatcher.sh\n",
            "spark-2.4.3-bin-hadoop2.6/sbin/stop-mesos-shuffle-service.sh\n",
            "spark-2.4.3-bin-hadoop2.6/sbin/start-thriftserver.sh\n",
            "spark-2.4.3-bin-hadoop2.6/sbin/stop-all.sh\n",
            "spark-2.4.3-bin-hadoop2.6/kubernetes/\n",
            "spark-2.4.3-bin-hadoop2.6/kubernetes/tests/\n",
            "spark-2.4.3-bin-hadoop2.6/kubernetes/tests/pyfiles.py\n",
            "spark-2.4.3-bin-hadoop2.6/kubernetes/tests/worker_memory_check.py\n",
            "spark-2.4.3-bin-hadoop2.6/kubernetes/tests/py_container_checks.py\n",
            "spark-2.4.3-bin-hadoop2.6/kubernetes/dockerfiles/\n",
            "spark-2.4.3-bin-hadoop2.6/kubernetes/dockerfiles/spark/\n",
            "spark-2.4.3-bin-hadoop2.6/kubernetes/dockerfiles/spark/Dockerfile\n",
            "spark-2.4.3-bin-hadoop2.6/kubernetes/dockerfiles/spark/bindings/\n",
            "spark-2.4.3-bin-hadoop2.6/kubernetes/dockerfiles/spark/bindings/python/\n",
            "spark-2.4.3-bin-hadoop2.6/kubernetes/dockerfiles/spark/bindings/python/Dockerfile\n",
            "spark-2.4.3-bin-hadoop2.6/kubernetes/dockerfiles/spark/bindings/R/\n",
            "spark-2.4.3-bin-hadoop2.6/kubernetes/dockerfiles/spark/bindings/R/Dockerfile\n",
            "spark-2.4.3-bin-hadoop2.6/kubernetes/dockerfiles/spark/entrypoint.sh\n",
            "spark-2.4.3-bin-hadoop2.6/jars/\n",
            "spark-2.4.3-bin-hadoop2.6/jars/commons-lang3-3.5.jar\n",
            "spark-2.4.3-bin-hadoop2.6/jars/spark-kubernetes_2.11-2.4.3.jar\n",
            "spark-2.4.3-bin-hadoop2.6/jars/arrow-format-0.10.0.jar\n",
            "spark-2.4.3-bin-hadoop2.6/jars/spark-streaming_2.11-2.4.3.jar\n",
            "spark-2.4.3-bin-hadoop2.6/jars/json4s-jackson_2.11-3.5.3.jar\n",
            "spark-2.4.3-bin-hadoop2.6/jars/jersey-container-servlet-2.22.2.jar\n",
            "spark-2.4.3-bin-hadoop2.6/jars/hive-jdbc-1.2.1.spark2.jar\n",
            "spark-2.4.3-bin-hadoop2.6/jars/spark-network-common_2.11-2.4.3.jar\n",
            "spark-2.4.3-bin-hadoop2.6/jars/pyrolite-4.13.jar\n",
            "spark-2.4.3-bin-hadoop2.6/jars/bonecp-0.8.0.RELEASE.jar\n",
            "spark-2.4.3-bin-hadoop2.6/jars/hppc-0.7.2.jar\n",
            "spark-2.4.3-bin-hadoop2.6/jars/spark-network-shuffle_2.11-2.4.3.jar\n",
            "spark-2.4.3-bin-hadoop2.6/jars/metrics-jvm-3.1.5.jar\n",
            "spark-2.4.3-bin-hadoop2.6/jars/jersey-guava-2.22.2.jar\n",
            "spark-2.4.3-bin-hadoop2.6/jars/guice-3.0.jar\n",
            "spark-2.4.3-bin-hadoop2.6/jars/super-csv-2.2.0.jar\n",
            "spark-2.4.3-bin-hadoop2.6/jars/commons-net-3.1.jar\n",
            "spark-2.4.3-bin-hadoop2.6/jars/validation-api-1.1.0.Final.jar\n",
            "spark-2.4.3-bin-hadoop2.6/jars/json4s-ast_2.11-3.5.3.jar\n",
            "spark-2.4.3-bin-hadoop2.6/jars/spark-repl_2.11-2.4.3.jar\n",
            "spark-2.4.3-bin-hadoop2.6/jars/spark-sketch_2.11-2.4.3.jar\n",
            "spark-2.4.3-bin-hadoop2.6/jars/javax.inject-1.jar\n",
            "spark-2.4.3-bin-hadoop2.6/jars/hadoop-hdfs-2.6.5.jar\n",
            "spark-2.4.3-bin-hadoop2.6/jars/orc-mapreduce-1.5.5-nohive.jar\n",
            "spark-2.4.3-bin-hadoop2.6/jars/avro-ipc-1.8.2.jar\n",
            "spark-2.4.3-bin-hadoop2.6/jars/hadoop-common-2.6.5.jar\n",
            "spark-2.4.3-bin-hadoop2.6/jars/parquet-encoding-1.10.1.jar\n",
            "spark-2.4.3-bin-hadoop2.6/jars/jersey-container-servlet-core-2.22.2.jar\n",
            "spark-2.4.3-bin-hadoop2.6/jars/zjsonpatch-0.3.0.jar\n",
            "spark-2.4.3-bin-hadoop2.6/jars/scala-compiler-2.11.12.jar\n",
            "spark-2.4.3-bin-hadoop2.6/jars/jersey-media-jaxb-2.22.2.jar\n",
            "spark-2.4.3-bin-hadoop2.6/jars/avro-mapred-1.8.2-hadoop2.jar\n",
            "spark-2.4.3-bin-hadoop2.6/jars/antlr4-runtime-4.7.jar\n",
            "spark-2.4.3-bin-hadoop2.6/jars/spark-sql_2.11-2.4.3.jar\n",
            "spark-2.4.3-bin-hadoop2.6/jars/hadoop-auth-2.6.5.jar\n",
            "spark-2.4.3-bin-hadoop2.6/jars/jackson-module-jaxb-annotations-2.6.7.jar\n",
            "spark-2.4.3-bin-hadoop2.6/jars/okhttp-3.8.1.jar\n",
            "spark-2.4.3-bin-hadoop2.6/jars/spark-core_2.11-2.4.3.jar\n",
            "spark-2.4.3-bin-hadoop2.6/jars/leveldbjni-all-1.8.jar\n",
            "spark-2.4.3-bin-hadoop2.6/jars/hadoop-yarn-server-web-proxy-2.6.5.jar\n",
            "spark-2.4.3-bin-hadoop2.6/jars/jackson-mapper-asl-1.9.13.jar\n",
            "spark-2.4.3-bin-hadoop2.6/jars/ST4-4.0.4.jar\n",
            "spark-2.4.3-bin-hadoop2.6/jars/eigenbase-properties-1.1.5.jar\n",
            "spark-2.4.3-bin-hadoop2.6/jars/jackson-jaxrs-1.9.13.jar\n",
            "spark-2.4.3-bin-hadoop2.6/jars/spark-yarn_2.11-2.4.3.jar\n",
            "spark-2.4.3-bin-hadoop2.6/jars/jackson-annotations-2.6.7.jar\n",
            "spark-2.4.3-bin-hadoop2.6/jars/jackson-module-paranamer-2.7.9.jar\n",
            "spark-2.4.3-bin-hadoop2.6/jars/jdo-api-3.0.1.jar\n",
            "spark-2.4.3-bin-hadoop2.6/jars/spark-launcher_2.11-2.4.3.jar\n",
            "spark-2.4.3-bin-hadoop2.6/jars/jersey-server-2.22.2.jar\n",
            "spark-2.4.3-bin-hadoop2.6/jars/scala-parser-combinators_2.11-1.1.0.jar\n",
            "spark-2.4.3-bin-hadoop2.6/jars/arrow-memory-0.10.0.jar\n",
            "spark-2.4.3-bin-hadoop2.6/jars/hk2-utils-2.4.0-b34.jar\n",
            "spark-2.4.3-bin-hadoop2.6/jars/joda-time-2.9.3.jar\n",
            "spark-2.4.3-bin-hadoop2.6/jars/commons-crypto-1.0.0.jar\n",
            "spark-2.4.3-bin-hadoop2.6/jars/aopalliance-1.0.jar\n",
            "spark-2.4.3-bin-hadoop2.6/jars/logging-interceptor-3.12.0.jar\n",
            "spark-2.4.3-bin-hadoop2.6/jars/parquet-common-1.10.1.jar\n",
            "spark-2.4.3-bin-hadoop2.6/jars/spark-mllib-local_2.11-2.4.3.jar\n",
            "spark-2.4.3-bin-hadoop2.6/jars/log4j-1.2.17.jar\n",
            "spark-2.4.3-bin-hadoop2.6/jars/commons-pool-1.5.4.jar\n",
            "spark-2.4.3-bin-hadoop2.6/jars/xz-1.5.jar\n",
            "spark-2.4.3-bin-hadoop2.6/jars/hk2-locator-2.4.0-b34.jar\n",
            "spark-2.4.3-bin-hadoop2.6/jars/libthrift-0.9.3.jar\n",
            "spark-2.4.3-bin-hadoop2.6/jars/chill-java-0.9.3.jar\n",
            "spark-2.4.3-bin-hadoop2.6/jars/opencsv-2.3.jar\n",
            "spark-2.4.3-bin-hadoop2.6/jars/lz4-java-1.4.0.jar\n",
            "spark-2.4.3-bin-hadoop2.6/jars/hadoop-mapreduce-client-shuffle-2.6.5.jar\n",
            "spark-2.4.3-bin-hadoop2.6/jars/hadoop-yarn-common-2.6.5.jar\n",
            "spark-2.4.3-bin-hadoop2.6/jars/kubernetes-model-common-4.1.2.jar\n",
            "spark-2.4.3-bin-hadoop2.6/jars/slf4j-log4j12-1.7.16.jar\n",
            "spark-2.4.3-bin-hadoop2.6/jars/calcite-core-1.2.0-incubating.jar\n",
            "spark-2.4.3-bin-hadoop2.6/jars/breeze_2.11-0.13.2.jar\n",
            "spark-2.4.3-bin-hadoop2.6/jars/parquet-hadoop-bundle-1.6.0.jar\n",
            "spark-2.4.3-bin-hadoop2.6/jars/javax.inject-2.4.0-b34.jar\n",
            "spark-2.4.3-bin-hadoop2.6/jars/metrics-json-3.1.5.jar\n",
            "spark-2.4.3-bin-hadoop2.6/jars/parquet-column-1.10.1.jar\n",
            "spark-2.4.3-bin-hadoop2.6/jars/aopalliance-repackaged-2.4.0-b34.jar\n",
            "spark-2.4.3-bin-hadoop2.6/jars/jcl-over-slf4j-1.7.16.jar\n",
            "spark-2.4.3-bin-hadoop2.6/jars/antlr-runtime-3.4.jar\n",
            "spark-2.4.3-bin-hadoop2.6/jars/hadoop-yarn-server-common-2.6.5.jar\n",
            "spark-2.4.3-bin-hadoop2.6/jars/parquet-jackson-1.10.1.jar\n",
            "spark-2.4.3-bin-hadoop2.6/jars/httpcore-4.4.10.jar\n",
            "spark-2.4.3-bin-hadoop2.6/jars/metrics-graphite-3.1.5.jar\n",
            "spark-2.4.3-bin-hadoop2.6/jars/netty-3.9.9.Final.jar\n",
            "spark-2.4.3-bin-hadoop2.6/jars/guava-14.0.1.jar\n",
            "spark-2.4.3-bin-hadoop2.6/jars/RoaringBitmap-0.7.45.jar\n",
            "spark-2.4.3-bin-hadoop2.6/jars/jaxb-api-2.2.2.jar\n",
            "spark-2.4.3-bin-hadoop2.6/jars/datanucleus-core-3.2.10.jar\n",
            "spark-2.4.3-bin-hadoop2.6/jars/compress-lzf-1.0.3.jar\n",
            "spark-2.4.3-bin-hadoop2.6/jars/antlr-2.7.7.jar\n",
            "spark-2.4.3-bin-hadoop2.6/jars/jersey-common-2.22.2.jar\n",
            "spark-2.4.3-bin-hadoop2.6/jars/parquet-hadoop-1.10.1.jar\n",
            "spark-2.4.3-bin-hadoop2.6/jars/commons-lang-2.6.jar\n",
            "spark-2.4.3-bin-hadoop2.6/jars/datanucleus-api-jdo-3.2.6.jar\n",
            "spark-2.4.3-bin-hadoop2.6/jars/orc-shims-1.5.5.jar\n",
            "spark-2.4.3-bin-hadoop2.6/jars/commons-digester-1.8.jar\n",
            "spark-2.4.3-bin-hadoop2.6/jars/jtransforms-2.4.0.jar\n",
            "spark-2.4.3-bin-hadoop2.6/jars/jodd-core-3.5.2.jar\n",
            "spark-2.4.3-bin-hadoop2.6/jars/spark-hive_2.11-2.4.3.jar\n",
            "spark-2.4.3-bin-hadoop2.6/jars/snakeyaml-1.15.jar\n",
            "spark-2.4.3-bin-hadoop2.6/jars/kubernetes-client-4.1.2.jar\n",
            "spark-2.4.3-bin-hadoop2.6/jars/commons-cli-1.2.jar\n",
            "spark-2.4.3-bin-hadoop2.6/jars/snappy-java-1.1.7.3.jar\n",
            "spark-2.4.3-bin-hadoop2.6/jars/parquet-format-2.4.0.jar\n",
            "spark-2.4.3-bin-hadoop2.6/jars/commons-configuration-1.6.jar\n",
            "spark-2.4.3-bin-hadoop2.6/jars/jpam-1.1.jar\n",
            "spark-2.4.3-bin-hadoop2.6/jars/kryo-shaded-4.0.2.jar\n",
            "spark-2.4.3-bin-hadoop2.6/jars/zookeeper-3.4.6.jar\n",
            "spark-2.4.3-bin-hadoop2.6/jars/javax.ws.rs-api-2.0.1.jar\n",
            "spark-2.4.3-bin-hadoop2.6/jars/jackson-core-asl-1.9.13.jar\n",
            "spark-2.4.3-bin-hadoop2.6/jars/hadoop-mapreduce-client-core-2.6.5.jar\n",
            "spark-2.4.3-bin-hadoop2.6/jars/json4s-scalap_2.11-3.5.3.jar\n",
            "spark-2.4.3-bin-hadoop2.6/jars/avro-1.8.2.jar\n",
            "spark-2.4.3-bin-hadoop2.6/jars/api-asn1-api-1.0.0-M20.jar\n",
            "spark-2.4.3-bin-hadoop2.6/jars/paranamer-2.8.jar\n",
            "spark-2.4.3-bin-hadoop2.6/jars/janino-3.0.9.jar\n",
            "spark-2.4.3-bin-hadoop2.6/jars/stringtemplate-3.2.1.jar\n",
            "spark-2.4.3-bin-hadoop2.6/jars/apacheds-i18n-2.0.0-M15.jar\n",
            "spark-2.4.3-bin-hadoop2.6/jars/apache-log4j-extras-1.2.17.jar\n",
            "spark-2.4.3-bin-hadoop2.6/jars/xbean-asm6-shaded-4.8.jar\n",
            "spark-2.4.3-bin-hadoop2.6/jars/oro-2.0.8.jar\n",
            "spark-2.4.3-bin-hadoop2.6/jars/javax.annotation-api-1.2.jar\n",
            "spark-2.4.3-bin-hadoop2.6/jars/chill_2.11-0.9.3.jar\n",
            "spark-2.4.3-bin-hadoop2.6/jars/hive-exec-1.2.1.spark2.jar\n",
            "spark-2.4.3-bin-hadoop2.6/jars/commons-dbcp-1.4.jar\n",
            "spark-2.4.3-bin-hadoop2.6/jars/mesos-1.4.0-shaded-protobuf.jar\n",
            "spark-2.4.3-bin-hadoop2.6/jars/okio-1.13.0.jar\n",
            "spark-2.4.3-bin-hadoop2.6/jars/jackson-databind-2.6.7.1.jar\n",
            "spark-2.4.3-bin-hadoop2.6/jars/spark-mesos_2.11-2.4.3.jar\n",
            "spark-2.4.3-bin-hadoop2.6/jars/netty-all-4.1.17.Final.jar\n",
            "spark-2.4.3-bin-hadoop2.6/jars/commons-compiler-3.0.9.jar\n",
            "spark-2.4.3-bin-hadoop2.6/jars/commons-math3-3.4.1.jar\n",
            "spark-2.4.3-bin-hadoop2.6/jars/httpclient-4.5.6.jar\n",
            "spark-2.4.3-bin-hadoop2.6/jars/jul-to-slf4j-1.7.16.jar\n",
            "spark-2.4.3-bin-hadoop2.6/jars/stax-api-1.0-2.jar\n",
            "spark-2.4.3-bin-hadoop2.6/jars/core-1.1.2.jar\n",
            "spark-2.4.3-bin-hadoop2.6/jars/commons-codec-1.10.jar\n",
            "spark-2.4.3-bin-hadoop2.6/jars/spark-kvstore_2.11-2.4.3.jar\n",
            "spark-2.4.3-bin-hadoop2.6/jars/spark-catalyst_2.11-2.4.3.jar\n",
            "spark-2.4.3-bin-hadoop2.6/jars/gson-2.2.4.jar\n",
            "spark-2.4.3-bin-hadoop2.6/jars/spark-tags_2.11-2.4.3-tests.jar\n",
            "spark-2.4.3-bin-hadoop2.6/jars/zstd-jni-1.3.2-2.jar\n",
            "spark-2.4.3-bin-hadoop2.6/jars/javolution-5.5.1.jar\n",
            "spark-2.4.3-bin-hadoop2.6/jars/univocity-parsers-2.7.3.jar\n",
            "spark-2.4.3-bin-hadoop2.6/jars/hadoop-mapreduce-client-common-2.6.5.jar\n",
            "spark-2.4.3-bin-hadoop2.6/jars/hadoop-yarn-api-2.6.5.jar\n",
            "spark-2.4.3-bin-hadoop2.6/jars/apacheds-kerberos-codec-2.0.0-M15.jar\n",
            "spark-2.4.3-bin-hadoop2.6/jars/libfb303-0.9.3.jar\n",
            "spark-2.4.3-bin-hadoop2.6/jars/jersey-client-2.22.2.jar\n",
            "spark-2.4.3-bin-hadoop2.6/jars/xercesImpl-2.9.1.jar\n",
            "spark-2.4.3-bin-hadoop2.6/jars/commons-collections-3.2.2.jar\n",
            "spark-2.4.3-bin-hadoop2.6/jars/machinist_2.11-0.6.1.jar\n",
            "spark-2.4.3-bin-hadoop2.6/jars/shims-0.7.45.jar\n",
            "spark-2.4.3-bin-hadoop2.6/jars/hadoop-mapreduce-client-jobclient-2.6.5.jar\n",
            "spark-2.4.3-bin-hadoop2.6/jars/spark-graphx_2.11-2.4.3.jar\n",
            "spark-2.4.3-bin-hadoop2.6/jars/jta-1.1.jar\n",
            "spark-2.4.3-bin-hadoop2.6/jars/hadoop-yarn-client-2.6.5.jar\n",
            "spark-2.4.3-bin-hadoop2.6/jars/osgi-resource-locator-1.0.1.jar\n",
            "spark-2.4.3-bin-hadoop2.6/jars/datanucleus-rdbms-3.2.9.jar\n",
            "spark-2.4.3-bin-hadoop2.6/jars/spark-unsafe_2.11-2.4.3.jar\n",
            "spark-2.4.3-bin-hadoop2.6/jars/javassist-3.18.1-GA.jar\n",
            "spark-2.4.3-bin-hadoop2.6/jars/spire-macros_2.11-0.13.0.jar\n",
            "spark-2.4.3-bin-hadoop2.6/jars/spark-mllib_2.11-2.4.3.jar\n",
            "spark-2.4.3-bin-hadoop2.6/jars/calcite-linq4j-1.2.0-incubating.jar\n",
            "spark-2.4.3-bin-hadoop2.6/jars/jline-2.14.6.jar\n",
            "spark-2.4.3-bin-hadoop2.6/jars/hive-metastore-1.2.1.spark2.jar\n",
            "spark-2.4.3-bin-hadoop2.6/jars/spire_2.11-0.13.0.jar\n",
            "spark-2.4.3-bin-hadoop2.6/jars/jackson-core-2.6.7.jar\n",
            "spark-2.4.3-bin-hadoop2.6/jars/api-util-1.0.0-M20.jar\n",
            "spark-2.4.3-bin-hadoop2.6/jars/curator-framework-2.6.0.jar\n",
            "spark-2.4.3-bin-hadoop2.6/jars/commons-httpclient-3.1.jar\n",
            "spark-2.4.3-bin-hadoop2.6/jars/aircompressor-0.10.jar\n",
            "spark-2.4.3-bin-hadoop2.6/jars/guice-servlet-3.0.jar\n",
            "spark-2.4.3-bin-hadoop2.6/jars/scala-xml_2.11-1.0.5.jar\n",
            "spark-2.4.3-bin-hadoop2.6/jars/commons-beanutils-1.9.3.jar\n",
            "spark-2.4.3-bin-hadoop2.6/jars/protobuf-java-2.5.0.jar\n",
            "spark-2.4.3-bin-hadoop2.6/jars/hive-beeline-1.2.1.spark2.jar\n",
            "spark-2.4.3-bin-hadoop2.6/jars/curator-recipes-2.6.0.jar\n",
            "spark-2.4.3-bin-hadoop2.6/jars/stream-2.7.0.jar\n",
            "spark-2.4.3-bin-hadoop2.6/jars/commons-compress-1.8.1.jar\n",
            "spark-2.4.3-bin-hadoop2.6/jars/curator-client-2.6.0.jar\n",
            "spark-2.4.3-bin-hadoop2.6/jars/macro-compat_2.11-1.1.1.jar\n",
            "spark-2.4.3-bin-hadoop2.6/jars/hadoop-client-2.6.5.jar\n",
            "spark-2.4.3-bin-hadoop2.6/jars/activation-1.1.1.jar\n",
            "spark-2.4.3-bin-hadoop2.6/jars/breeze-macros_2.11-0.13.2.jar\n",
            "spark-2.4.3-bin-hadoop2.6/jars/derby-10.12.1.1.jar\n",
            "spark-2.4.3-bin-hadoop2.6/jars/shapeless_2.11-2.3.2.jar\n",
            "spark-2.4.3-bin-hadoop2.6/jars/spark-tags_2.11-2.4.3.jar\n",
            "spark-2.4.3-bin-hadoop2.6/jars/minlog-1.3.0.jar\n",
            "spark-2.4.3-bin-hadoop2.6/jars/commons-logging-1.1.3.jar\n",
            "spark-2.4.3-bin-hadoop2.6/jars/kubernetes-model-4.1.2.jar\n",
            "spark-2.4.3-bin-hadoop2.6/jars/spark-hive-thriftserver_2.11-2.4.3.jar\n",
            "spark-2.4.3-bin-hadoop2.6/jars/hive-cli-1.2.1.spark2.jar\n",
            "spark-2.4.3-bin-hadoop2.6/jars/metrics-core-3.1.5.jar\n",
            "spark-2.4.3-bin-hadoop2.6/jars/jackson-module-scala_2.11-2.6.7.1.jar\n",
            "spark-2.4.3-bin-hadoop2.6/jars/hadoop-annotations-2.6.5.jar\n",
            "spark-2.4.3-bin-hadoop2.6/jars/automaton-1.11-8.jar\n",
            "spark-2.4.3-bin-hadoop2.6/jars/objenesis-2.5.1.jar\n",
            "spark-2.4.3-bin-hadoop2.6/jars/json4s-core_2.11-3.5.3.jar\n",
            "spark-2.4.3-bin-hadoop2.6/jars/py4j-0.10.7.jar\n",
            "spark-2.4.3-bin-hadoop2.6/jars/jetty-6.1.26.jar\n",
            "spark-2.4.3-bin-hadoop2.6/jars/slf4j-api-1.7.16.jar\n",
            "spark-2.4.3-bin-hadoop2.6/jars/orc-core-1.5.5-nohive.jar\n",
            "spark-2.4.3-bin-hadoop2.6/jars/commons-io-2.4.jar\n",
            "spark-2.4.3-bin-hadoop2.6/jars/jackson-xc-1.9.13.jar\n",
            "spark-2.4.3-bin-hadoop2.6/jars/scala-reflect-2.11.12.jar\n",
            "spark-2.4.3-bin-hadoop2.6/jars/xmlenc-0.52.jar\n",
            "spark-2.4.3-bin-hadoop2.6/jars/jetty-util-6.1.26.jar\n",
            "spark-2.4.3-bin-hadoop2.6/jars/htrace-core-3.0.4.jar\n",
            "spark-2.4.3-bin-hadoop2.6/jars/hadoop-mapreduce-client-app-2.6.5.jar\n",
            "spark-2.4.3-bin-hadoop2.6/jars/ivy-2.4.0.jar\n",
            "spark-2.4.3-bin-hadoop2.6/jars/scala-library-2.11.12.jar\n",
            "spark-2.4.3-bin-hadoop2.6/jars/snappy-0.2.jar\n",
            "spark-2.4.3-bin-hadoop2.6/jars/jsr305-1.3.9.jar\n",
            "spark-2.4.3-bin-hadoop2.6/jars/arpack_combined_all-0.1.jar\n",
            "spark-2.4.3-bin-hadoop2.6/jars/stax-api-1.0.1.jar\n",
            "spark-2.4.3-bin-hadoop2.6/jars/hk2-api-2.4.0-b34.jar\n",
            "spark-2.4.3-bin-hadoop2.6/jars/jackson-dataformat-yaml-2.6.7.jar\n",
            "spark-2.4.3-bin-hadoop2.6/jars/arrow-vector-0.10.0.jar\n",
            "spark-2.4.3-bin-hadoop2.6/jars/flatbuffers-1.2.0-3f79e055.jar\n",
            "spark-2.4.3-bin-hadoop2.6/jars/calcite-avatica-1.2.0-incubating.jar\n",
            "spark-2.4.3-bin-hadoop2.6/jars/generex-1.0.1.jar\n",
            "spark-2.4.3-bin-hadoop2.6/jars/JavaEWAH-0.3.2.jar\n",
            "spark-2.4.3-bin-hadoop2.6/jars/javax.servlet-api-3.1.0.jar\n",
            "spark-2.4.3-bin-hadoop2.6/bin/\n",
            "spark-2.4.3-bin-hadoop2.6/bin/beeline\n",
            "spark-2.4.3-bin-hadoop2.6/bin/pyspark\n",
            "spark-2.4.3-bin-hadoop2.6/bin/pyspark.cmd\n",
            "spark-2.4.3-bin-hadoop2.6/bin/find-spark-home\n",
            "spark-2.4.3-bin-hadoop2.6/bin/spark-submit2.cmd\n",
            "spark-2.4.3-bin-hadoop2.6/bin/spark-class.cmd\n",
            "spark-2.4.3-bin-hadoop2.6/bin/run-example\n",
            "spark-2.4.3-bin-hadoop2.6/bin/sparkR2.cmd\n",
            "spark-2.4.3-bin-hadoop2.6/bin/spark-sql2.cmd\n",
            "spark-2.4.3-bin-hadoop2.6/bin/spark-submit.cmd\n",
            "spark-2.4.3-bin-hadoop2.6/bin/run-example.cmd\n",
            "spark-2.4.3-bin-hadoop2.6/bin/sparkR.cmd\n",
            "spark-2.4.3-bin-hadoop2.6/bin/spark-class2.cmd\n",
            "spark-2.4.3-bin-hadoop2.6/bin/spark-submit\n",
            "spark-2.4.3-bin-hadoop2.6/bin/sparkR\n",
            "spark-2.4.3-bin-hadoop2.6/bin/spark-sql.cmd\n",
            "spark-2.4.3-bin-hadoop2.6/bin/load-spark-env.cmd\n",
            "spark-2.4.3-bin-hadoop2.6/bin/pyspark2.cmd\n",
            "spark-2.4.3-bin-hadoop2.6/bin/docker-image-tool.sh\n",
            "spark-2.4.3-bin-hadoop2.6/bin/spark-shell\n",
            "spark-2.4.3-bin-hadoop2.6/bin/find-spark-home.cmd\n",
            "spark-2.4.3-bin-hadoop2.6/bin/spark-shell.cmd\n",
            "spark-2.4.3-bin-hadoop2.6/bin/load-spark-env.sh\n",
            "spark-2.4.3-bin-hadoop2.6/bin/spark-sql\n",
            "spark-2.4.3-bin-hadoop2.6/bin/spark-shell2.cmd\n",
            "spark-2.4.3-bin-hadoop2.6/bin/spark-class\n",
            "spark-2.4.3-bin-hadoop2.6/bin/beeline.cmd\n",
            "spark-2.4.3-bin-hadoop2.6/RELEASE\n",
            "spark-2.4.3-bin-hadoop2.6/R/\n",
            "spark-2.4.3-bin-hadoop2.6/R/lib/\n",
            "spark-2.4.3-bin-hadoop2.6/R/lib/SparkR/\n",
            "spark-2.4.3-bin-hadoop2.6/R/lib/SparkR/NAMESPACE\n",
            "spark-2.4.3-bin-hadoop2.6/R/lib/SparkR/doc/\n",
            "spark-2.4.3-bin-hadoop2.6/R/lib/SparkR/doc/sparkr-vignettes.Rmd\n",
            "spark-2.4.3-bin-hadoop2.6/R/lib/SparkR/doc/sparkr-vignettes.html\n",
            "spark-2.4.3-bin-hadoop2.6/R/lib/SparkR/doc/sparkr-vignettes.R\n",
            "spark-2.4.3-bin-hadoop2.6/R/lib/SparkR/doc/index.html\n",
            "spark-2.4.3-bin-hadoop2.6/R/lib/SparkR/DESCRIPTION\n",
            "spark-2.4.3-bin-hadoop2.6/R/lib/SparkR/R/\n",
            "spark-2.4.3-bin-hadoop2.6/R/lib/SparkR/R/SparkR.rdb\n",
            "spark-2.4.3-bin-hadoop2.6/R/lib/SparkR/R/SparkR\n",
            "spark-2.4.3-bin-hadoop2.6/R/lib/SparkR/R/SparkR.rdx\n",
            "spark-2.4.3-bin-hadoop2.6/R/lib/SparkR/html/\n",
            "spark-2.4.3-bin-hadoop2.6/R/lib/SparkR/html/R.css\n",
            "spark-2.4.3-bin-hadoop2.6/R/lib/SparkR/html/00Index.html\n",
            "spark-2.4.3-bin-hadoop2.6/R/lib/SparkR/help/\n",
            "spark-2.4.3-bin-hadoop2.6/R/lib/SparkR/help/AnIndex\n",
            "spark-2.4.3-bin-hadoop2.6/R/lib/SparkR/help/SparkR.rdb\n",
            "spark-2.4.3-bin-hadoop2.6/R/lib/SparkR/help/aliases.rds\n",
            "spark-2.4.3-bin-hadoop2.6/R/lib/SparkR/help/SparkR.rdx\n",
            "spark-2.4.3-bin-hadoop2.6/R/lib/SparkR/help/paths.rds\n",
            "spark-2.4.3-bin-hadoop2.6/R/lib/SparkR/profile/\n",
            "spark-2.4.3-bin-hadoop2.6/R/lib/SparkR/profile/general.R\n",
            "spark-2.4.3-bin-hadoop2.6/R/lib/SparkR/profile/shell.R\n",
            "spark-2.4.3-bin-hadoop2.6/R/lib/SparkR/tests/\n",
            "spark-2.4.3-bin-hadoop2.6/R/lib/SparkR/tests/testthat/\n",
            "spark-2.4.3-bin-hadoop2.6/R/lib/SparkR/tests/testthat/test_basic.R\n",
            "spark-2.4.3-bin-hadoop2.6/R/lib/SparkR/Meta/\n",
            "spark-2.4.3-bin-hadoop2.6/R/lib/SparkR/Meta/vignette.rds\n",
            "spark-2.4.3-bin-hadoop2.6/R/lib/SparkR/Meta/package.rds\n",
            "spark-2.4.3-bin-hadoop2.6/R/lib/SparkR/Meta/Rd.rds\n",
            "spark-2.4.3-bin-hadoop2.6/R/lib/SparkR/Meta/nsInfo.rds\n",
            "spark-2.4.3-bin-hadoop2.6/R/lib/SparkR/Meta/hsearch.rds\n",
            "spark-2.4.3-bin-hadoop2.6/R/lib/SparkR/Meta/features.rds\n",
            "spark-2.4.3-bin-hadoop2.6/R/lib/SparkR/Meta/links.rds\n",
            "spark-2.4.3-bin-hadoop2.6/R/lib/SparkR/worker/\n",
            "spark-2.4.3-bin-hadoop2.6/R/lib/SparkR/worker/daemon.R\n",
            "spark-2.4.3-bin-hadoop2.6/R/lib/SparkR/worker/worker.R\n",
            "spark-2.4.3-bin-hadoop2.6/R/lib/SparkR/INDEX\n",
            "spark-2.4.3-bin-hadoop2.6/R/lib/sparkr.zip\n",
            "spark-2.4.3-bin-hadoop2.6/yarn/\n",
            "spark-2.4.3-bin-hadoop2.6/yarn/spark-2.4.3-yarn-shuffle.jar\n",
            "spark-2.4.3-bin-hadoop2.6/examples/\n",
            "spark-2.4.3-bin-hadoop2.6/examples/jars/\n",
            "spark-2.4.3-bin-hadoop2.6/examples/jars/spark-examples_2.11-2.4.3.jar\n",
            "spark-2.4.3-bin-hadoop2.6/examples/jars/scopt_2.11-3.7.0.jar\n",
            "spark-2.4.3-bin-hadoop2.6/examples/src/\n",
            "spark-2.4.3-bin-hadoop2.6/examples/src/main/\n",
            "spark-2.4.3-bin-hadoop2.6/examples/src/main/python/\n",
            "spark-2.4.3-bin-hadoop2.6/examples/src/main/python/als.py\n",
            "spark-2.4.3-bin-hadoop2.6/examples/src/main/python/pagerank.py\n",
            "spark-2.4.3-bin-hadoop2.6/examples/src/main/python/mllib/\n",
            "spark-2.4.3-bin-hadoop2.6/examples/src/main/python/mllib/ranking_metrics_example.py\n",
            "spark-2.4.3-bin-hadoop2.6/examples/src/main/python/mllib/gradient_boosting_regression_example.py\n",
            "spark-2.4.3-bin-hadoop2.6/examples/src/main/python/mllib/decision_tree_classification_example.py\n",
            "spark-2.4.3-bin-hadoop2.6/examples/src/main/python/mllib/tf_idf_example.py\n",
            "spark-2.4.3-bin-hadoop2.6/examples/src/main/python/mllib/decision_tree_regression_example.py\n",
            "spark-2.4.3-bin-hadoop2.6/examples/src/main/python/mllib/k_means_example.py\n",
            "spark-2.4.3-bin-hadoop2.6/examples/src/main/python/mllib/streaming_linear_regression_example.py\n",
            "spark-2.4.3-bin-hadoop2.6/examples/src/main/python/mllib/random_forest_regression_example.py\n",
            "spark-2.4.3-bin-hadoop2.6/examples/src/main/python/mllib/random_forest_classification_example.py\n",
            "spark-2.4.3-bin-hadoop2.6/examples/src/main/python/mllib/pca_rowmatrix_example.py\n",
            "spark-2.4.3-bin-hadoop2.6/examples/src/main/python/mllib/elementwise_product_example.py\n",
            "spark-2.4.3-bin-hadoop2.6/examples/src/main/python/mllib/stratified_sampling_example.py\n",
            "spark-2.4.3-bin-hadoop2.6/examples/src/main/python/mllib/multi_class_metrics_example.py\n",
            "spark-2.4.3-bin-hadoop2.6/examples/src/main/python/mllib/gradient_boosting_classification_example.py\n",
            "spark-2.4.3-bin-hadoop2.6/examples/src/main/python/mllib/fpgrowth_example.py\n",
            "spark-2.4.3-bin-hadoop2.6/examples/src/main/python/mllib/binary_classification_metrics_example.py\n",
            "spark-2.4.3-bin-hadoop2.6/examples/src/main/python/mllib/sampled_rdds.py\n",
            "spark-2.4.3-bin-hadoop2.6/examples/src/main/python/mllib/logistic_regression_with_lbfgs_example.py\n",
            "spark-2.4.3-bin-hadoop2.6/examples/src/main/python/mllib/kernel_density_estimation_example.py\n",
            "spark-2.4.3-bin-hadoop2.6/examples/src/main/python/mllib/logistic_regression.py\n",
            "spark-2.4.3-bin-hadoop2.6/examples/src/main/python/mllib/hypothesis_testing_example.py\n",
            "spark-2.4.3-bin-hadoop2.6/examples/src/main/python/mllib/svm_with_sgd_example.py\n",
            "spark-2.4.3-bin-hadoop2.6/examples/src/main/python/mllib/streaming_k_means_example.py\n",
            "spark-2.4.3-bin-hadoop2.6/examples/src/main/python/mllib/correlations.py\n",
            "spark-2.4.3-bin-hadoop2.6/examples/src/main/python/mllib/correlations_example.py\n",
            "spark-2.4.3-bin-hadoop2.6/examples/src/main/python/mllib/regression_metrics_example.py\n",
            "spark-2.4.3-bin-hadoop2.6/examples/src/main/python/mllib/naive_bayes_example.py\n",
            "spark-2.4.3-bin-hadoop2.6/examples/src/main/python/mllib/gaussian_mixture_model.py\n",
            "spark-2.4.3-bin-hadoop2.6/examples/src/main/python/mllib/hypothesis_testing_kolmogorov_smirnov_test_example.py\n",
            "spark-2.4.3-bin-hadoop2.6/examples/src/main/python/mllib/word2vec.py\n",
            "spark-2.4.3-bin-hadoop2.6/examples/src/main/python/mllib/latent_dirichlet_allocation_example.py\n",
            "spark-2.4.3-bin-hadoop2.6/examples/src/main/python/mllib/recommendation_example.py\n",
            "spark-2.4.3-bin-hadoop2.6/examples/src/main/python/mllib/linear_regression_with_sgd_example.py\n",
            "spark-2.4.3-bin-hadoop2.6/examples/src/main/python/mllib/random_rdd_generation.py\n",
            "spark-2.4.3-bin-hadoop2.6/examples/src/main/python/mllib/bisecting_k_means_example.py\n",
            "spark-2.4.3-bin-hadoop2.6/examples/src/main/python/mllib/summary_statistics_example.py\n",
            "spark-2.4.3-bin-hadoop2.6/examples/src/main/python/mllib/word2vec_example.py\n",
            "spark-2.4.3-bin-hadoop2.6/examples/src/main/python/mllib/kmeans.py\n",
            "spark-2.4.3-bin-hadoop2.6/examples/src/main/python/mllib/standard_scaler_example.py\n",
            "spark-2.4.3-bin-hadoop2.6/examples/src/main/python/mllib/multi_label_metrics_example.py\n",
            "spark-2.4.3-bin-hadoop2.6/examples/src/main/python/mllib/svd_example.py\n",
            "spark-2.4.3-bin-hadoop2.6/examples/src/main/python/mllib/normalizer_example.py\n",
            "spark-2.4.3-bin-hadoop2.6/examples/src/main/python/mllib/power_iteration_clustering_example.py\n",
            "spark-2.4.3-bin-hadoop2.6/examples/src/main/python/mllib/isotonic_regression_example.py\n",
            "spark-2.4.3-bin-hadoop2.6/examples/src/main/python/mllib/gaussian_mixture_example.py\n",
            "spark-2.4.3-bin-hadoop2.6/examples/src/main/python/parquet_inputformat.py\n",
            "spark-2.4.3-bin-hadoop2.6/examples/src/main/python/logistic_regression.py\n",
            "spark-2.4.3-bin-hadoop2.6/examples/src/main/python/ml/\n",
            "spark-2.4.3-bin-hadoop2.6/examples/src/main/python/ml/rformula_example.py\n",
            "spark-2.4.3-bin-hadoop2.6/examples/src/main/python/ml/min_max_scaler_example.py\n",
            "spark-2.4.3-bin-hadoop2.6/examples/src/main/python/ml/min_hash_lsh_example.py\n",
            "spark-2.4.3-bin-hadoop2.6/examples/src/main/python/ml/gradient_boosted_tree_regressor_example.py\n",
            "spark-2.4.3-bin-hadoop2.6/examples/src/main/python/ml/decision_tree_classification_example.py\n",
            "spark-2.4.3-bin-hadoop2.6/examples/src/main/python/ml/logistic_regression_with_elastic_net.py\n",
            "spark-2.4.3-bin-hadoop2.6/examples/src/main/python/ml/tf_idf_example.py\n",
            "spark-2.4.3-bin-hadoop2.6/examples/src/main/python/ml/decision_tree_regression_example.py\n",
            "spark-2.4.3-bin-hadoop2.6/examples/src/main/python/ml/vector_slicer_example.py\n",
            "spark-2.4.3-bin-hadoop2.6/examples/src/main/python/ml/als_example.py\n",
            "spark-2.4.3-bin-hadoop2.6/examples/src/main/python/ml/cross_validator.py\n",
            "spark-2.4.3-bin-hadoop2.6/examples/src/main/python/ml/onehot_encoder_estimator_example.py\n",
            "spark-2.4.3-bin-hadoop2.6/examples/src/main/python/ml/gradient_boosted_tree_classifier_example.py\n",
            "spark-2.4.3-bin-hadoop2.6/examples/src/main/python/ml/generalized_linear_regression_example.py\n",
            "spark-2.4.3-bin-hadoop2.6/examples/src/main/python/ml/random_forest_regressor_example.py\n",
            "spark-2.4.3-bin-hadoop2.6/examples/src/main/python/ml/chisq_selector_example.py\n",
            "spark-2.4.3-bin-hadoop2.6/examples/src/main/python/ml/max_abs_scaler_example.py\n",
            "spark-2.4.3-bin-hadoop2.6/examples/src/main/python/ml/n_gram_example.py\n",
            "spark-2.4.3-bin-hadoop2.6/examples/src/main/python/ml/elementwise_product_example.py\n",
            "spark-2.4.3-bin-hadoop2.6/examples/src/main/python/ml/binarizer_example.py\n",
            "spark-2.4.3-bin-hadoop2.6/examples/src/main/python/ml/bucketed_random_projection_lsh_example.py\n",
            "spark-2.4.3-bin-hadoop2.6/examples/src/main/python/ml/imputer_example.py\n",
            "spark-2.4.3-bin-hadoop2.6/examples/src/main/python/ml/correlation_example.py\n",
            "spark-2.4.3-bin-hadoop2.6/examples/src/main/python/ml/count_vectorizer_example.py\n",
            "spark-2.4.3-bin-hadoop2.6/examples/src/main/python/ml/multilayer_perceptron_classification.py\n",
            "spark-2.4.3-bin-hadoop2.6/examples/src/main/python/ml/stopwords_remover_example.py\n",
            "spark-2.4.3-bin-hadoop2.6/examples/src/main/python/ml/fpgrowth_example.py\n",
            "spark-2.4.3-bin-hadoop2.6/examples/src/main/python/ml/kmeans_example.py\n",
            "spark-2.4.3-bin-hadoop2.6/examples/src/main/python/ml/chi_square_test_example.py\n",
            "spark-2.4.3-bin-hadoop2.6/examples/src/main/python/ml/aft_survival_regression.py\n",
            "spark-2.4.3-bin-hadoop2.6/examples/src/main/python/ml/dct_example.py\n",
            "spark-2.4.3-bin-hadoop2.6/examples/src/main/python/ml/dataframe_example.py\n",
            "spark-2.4.3-bin-hadoop2.6/examples/src/main/python/ml/pca_example.py\n",
            "spark-2.4.3-bin-hadoop2.6/examples/src/main/python/ml/pipeline_example.py\n",
            "spark-2.4.3-bin-hadoop2.6/examples/src/main/python/ml/polynomial_expansion_example.py\n",
            "spark-2.4.3-bin-hadoop2.6/examples/src/main/python/ml/tokenizer_example.py\n",
            "spark-2.4.3-bin-hadoop2.6/examples/src/main/python/ml/estimator_transformer_param_example.py\n",
            "spark-2.4.3-bin-hadoop2.6/examples/src/main/python/ml/naive_bayes_example.py\n",
            "spark-2.4.3-bin-hadoop2.6/examples/src/main/python/ml/string_indexer_example.py\n",
            "spark-2.4.3-bin-hadoop2.6/examples/src/main/python/ml/summarizer_example.py\n",
            "spark-2.4.3-bin-hadoop2.6/examples/src/main/python/ml/bucketizer_example.py\n",
            "spark-2.4.3-bin-hadoop2.6/examples/src/main/python/ml/vector_assembler_example.py\n",
            "spark-2.4.3-bin-hadoop2.6/examples/src/main/python/ml/sql_transformer.py\n",
            "spark-2.4.3-bin-hadoop2.6/examples/src/main/python/ml/feature_hasher_example.py\n",
            "spark-2.4.3-bin-hadoop2.6/examples/src/main/python/ml/vector_indexer_example.py\n",
            "spark-2.4.3-bin-hadoop2.6/examples/src/main/python/ml/train_validation_split.py\n",
            "spark-2.4.3-bin-hadoop2.6/examples/src/main/python/ml/vector_size_hint_example.py\n",
            "spark-2.4.3-bin-hadoop2.6/examples/src/main/python/ml/one_vs_rest_example.py\n",
            "spark-2.4.3-bin-hadoop2.6/examples/src/main/python/ml/logistic_regression_summary_example.py\n",
            "spark-2.4.3-bin-hadoop2.6/examples/src/main/python/ml/bisecting_k_means_example.py\n",
            "spark-2.4.3-bin-hadoop2.6/examples/src/main/python/ml/multiclass_logistic_regression_with_elastic_net.py\n",
            "spark-2.4.3-bin-hadoop2.6/examples/src/main/python/ml/index_to_string_example.py\n",
            "spark-2.4.3-bin-hadoop2.6/examples/src/main/python/ml/linear_regression_with_elastic_net.py\n",
            "spark-2.4.3-bin-hadoop2.6/examples/src/main/python/ml/linearsvc.py\n",
            "spark-2.4.3-bin-hadoop2.6/examples/src/main/python/ml/word2vec_example.py\n",
            "spark-2.4.3-bin-hadoop2.6/examples/src/main/python/ml/standard_scaler_example.py\n",
            "spark-2.4.3-bin-hadoop2.6/examples/src/main/python/ml/prefixspan_example.py\n",
            "spark-2.4.3-bin-hadoop2.6/examples/src/main/python/ml/lda_example.py\n",
            "spark-2.4.3-bin-hadoop2.6/examples/src/main/python/ml/normalizer_example.py\n",
            "spark-2.4.3-bin-hadoop2.6/examples/src/main/python/ml/quantile_discretizer_example.py\n",
            "spark-2.4.3-bin-hadoop2.6/examples/src/main/python/ml/random_forest_classifier_example.py\n",
            "spark-2.4.3-bin-hadoop2.6/examples/src/main/python/ml/isotonic_regression_example.py\n",
            "spark-2.4.3-bin-hadoop2.6/examples/src/main/python/ml/gaussian_mixture_example.py\n",
            "spark-2.4.3-bin-hadoop2.6/examples/src/main/python/transitive_closure.py\n",
            "spark-2.4.3-bin-hadoop2.6/examples/src/main/python/streaming/\n",
            "spark-2.4.3-bin-hadoop2.6/examples/src/main/python/streaming/flume_wordcount.py\n",
            "spark-2.4.3-bin-hadoop2.6/examples/src/main/python/streaming/queue_stream.py\n",
            "spark-2.4.3-bin-hadoop2.6/examples/src/main/python/streaming/recoverable_network_wordcount.py\n",
            "spark-2.4.3-bin-hadoop2.6/examples/src/main/python/streaming/kafka_wordcount.py\n",
            "spark-2.4.3-bin-hadoop2.6/examples/src/main/python/streaming/hdfs_wordcount.py\n",
            "spark-2.4.3-bin-hadoop2.6/examples/src/main/python/streaming/direct_kafka_wordcount.py\n",
            "spark-2.4.3-bin-hadoop2.6/examples/src/main/python/streaming/stateful_network_wordcount.py\n",
            "spark-2.4.3-bin-hadoop2.6/examples/src/main/python/streaming/network_wordcount.py\n",
            "spark-2.4.3-bin-hadoop2.6/examples/src/main/python/streaming/sql_network_wordcount.py\n",
            "spark-2.4.3-bin-hadoop2.6/examples/src/main/python/streaming/network_wordjoinsentiments.py\n",
            "spark-2.4.3-bin-hadoop2.6/examples/src/main/python/wordcount.py\n",
            "spark-2.4.3-bin-hadoop2.6/examples/src/main/python/status_api_demo.py\n",
            "spark-2.4.3-bin-hadoop2.6/examples/src/main/python/sql/\n",
            "spark-2.4.3-bin-hadoop2.6/examples/src/main/python/sql/basic.py\n",
            "spark-2.4.3-bin-hadoop2.6/examples/src/main/python/sql/arrow.py\n",
            "spark-2.4.3-bin-hadoop2.6/examples/src/main/python/sql/streaming/\n",
            "spark-2.4.3-bin-hadoop2.6/examples/src/main/python/sql/streaming/structured_kafka_wordcount.py\n",
            "spark-2.4.3-bin-hadoop2.6/examples/src/main/python/sql/streaming/structured_network_wordcount_windowed.py\n",
            "spark-2.4.3-bin-hadoop2.6/examples/src/main/python/sql/streaming/structured_network_wordcount.py\n",
            "spark-2.4.3-bin-hadoop2.6/examples/src/main/python/sql/datasource.py\n",
            "spark-2.4.3-bin-hadoop2.6/examples/src/main/python/sql/hive.py\n",
            "spark-2.4.3-bin-hadoop2.6/examples/src/main/python/kmeans.py\n",
            "spark-2.4.3-bin-hadoop2.6/examples/src/main/python/sort.py\n",
            "spark-2.4.3-bin-hadoop2.6/examples/src/main/python/pi.py\n",
            "spark-2.4.3-bin-hadoop2.6/examples/src/main/python/avro_inputformat.py\n",
            "spark-2.4.3-bin-hadoop2.6/examples/src/main/scala/\n",
            "spark-2.4.3-bin-hadoop2.6/examples/src/main/scala/org/\n",
            "spark-2.4.3-bin-hadoop2.6/examples/src/main/scala/org/apache/\n",
            "spark-2.4.3-bin-hadoop2.6/examples/src/main/scala/org/apache/spark/\n",
            "spark-2.4.3-bin-hadoop2.6/examples/src/main/scala/org/apache/spark/examples/\n",
            "spark-2.4.3-bin-hadoop2.6/examples/src/main/scala/org/apache/spark/examples/LocalPi.scala\n",
            "spark-2.4.3-bin-hadoop2.6/examples/src/main/scala/org/apache/spark/examples/SparkTC.scala\n",
            "spark-2.4.3-bin-hadoop2.6/examples/src/main/scala/org/apache/spark/examples/pythonconverters/\n",
            "spark-2.4.3-bin-hadoop2.6/examples/src/main/scala/org/apache/spark/examples/pythonconverters/AvroConverters.scala\n",
            "spark-2.4.3-bin-hadoop2.6/examples/src/main/scala/org/apache/spark/examples/HdfsTest.scala\n",
            "spark-2.4.3-bin-hadoop2.6/examples/src/main/scala/org/apache/spark/examples/SparkHdfsLR.scala\n",
            "spark-2.4.3-bin-hadoop2.6/examples/src/main/scala/org/apache/spark/examples/graphx/\n",
            "spark-2.4.3-bin-hadoop2.6/examples/src/main/scala/org/apache/spark/examples/graphx/LiveJournalPageRank.scala\n",
            "spark-2.4.3-bin-hadoop2.6/examples/src/main/scala/org/apache/spark/examples/graphx/Analytics.scala\n",
            "spark-2.4.3-bin-hadoop2.6/examples/src/main/scala/org/apache/spark/examples/graphx/ConnectedComponentsExample.scala\n",
            "spark-2.4.3-bin-hadoop2.6/examples/src/main/scala/org/apache/spark/examples/graphx/TriangleCountingExample.scala\n",
            "spark-2.4.3-bin-hadoop2.6/examples/src/main/scala/org/apache/spark/examples/graphx/SynthBenchmark.scala\n",
            "spark-2.4.3-bin-hadoop2.6/examples/src/main/scala/org/apache/spark/examples/graphx/ComprehensiveExample.scala\n",
            "spark-2.4.3-bin-hadoop2.6/examples/src/main/scala/org/apache/spark/examples/graphx/SSSPExample.scala\n",
            "spark-2.4.3-bin-hadoop2.6/examples/src/main/scala/org/apache/spark/examples/graphx/AggregateMessagesExample.scala\n",
            "spark-2.4.3-bin-hadoop2.6/examples/src/main/scala/org/apache/spark/examples/graphx/PageRankExample.scala\n",
            "spark-2.4.3-bin-hadoop2.6/examples/src/main/scala/org/apache/spark/examples/SparkPageRank.scala\n",
            "spark-2.4.3-bin-hadoop2.6/examples/src/main/scala/org/apache/spark/examples/LocalKMeans.scala\n",
            "spark-2.4.3-bin-hadoop2.6/examples/src/main/scala/org/apache/spark/examples/BroadcastTest.scala\n",
            "spark-2.4.3-bin-hadoop2.6/examples/src/main/scala/org/apache/spark/examples/SparkLR.scala\n",
            "spark-2.4.3-bin-hadoop2.6/examples/src/main/scala/org/apache/spark/examples/mllib/\n",
            "spark-2.4.3-bin-hadoop2.6/examples/src/main/scala/org/apache/spark/examples/mllib/StreamingTestExample.scala\n",
            "spark-2.4.3-bin-hadoop2.6/examples/src/main/scala/org/apache/spark/examples/mllib/StreamingLinearRegressionExample.scala\n",
            "spark-2.4.3-bin-hadoop2.6/examples/src/main/scala/org/apache/spark/examples/mllib/LatentDirichletAllocationExample.scala\n",
            "spark-2.4.3-bin-hadoop2.6/examples/src/main/scala/org/apache/spark/examples/mllib/StandardScalerExample.scala\n",
            "spark-2.4.3-bin-hadoop2.6/examples/src/main/scala/org/apache/spark/examples/mllib/GaussianMixtureExample.scala\n",
            "spark-2.4.3-bin-hadoop2.6/examples/src/main/scala/org/apache/spark/examples/mllib/ElementwiseProductExample.scala\n",
            "spark-2.4.3-bin-hadoop2.6/examples/src/main/scala/org/apache/spark/examples/mllib/LBFGSExample.scala\n",
            "spark-2.4.3-bin-hadoop2.6/examples/src/main/scala/org/apache/spark/examples/mllib/SampledRDDs.scala\n",
            "spark-2.4.3-bin-hadoop2.6/examples/src/main/scala/org/apache/spark/examples/mllib/GradientBoostedTreesRunner.scala\n",
            "spark-2.4.3-bin-hadoop2.6/examples/src/main/scala/org/apache/spark/examples/mllib/TallSkinnyPCA.scala\n",
            "spark-2.4.3-bin-hadoop2.6/examples/src/main/scala/org/apache/spark/examples/mllib/DecisionTreeRunner.scala\n",
            "spark-2.4.3-bin-hadoop2.6/examples/src/main/scala/org/apache/spark/examples/mllib/GradientBoostingClassificationExample.scala\n",
            "spark-2.4.3-bin-hadoop2.6/examples/src/main/scala/org/apache/spark/examples/mllib/PrefixSpanExample.scala\n",
            "spark-2.4.3-bin-hadoop2.6/examples/src/main/scala/org/apache/spark/examples/mllib/Correlations.scala\n",
            "spark-2.4.3-bin-hadoop2.6/examples/src/main/scala/org/apache/spark/examples/mllib/SimpleFPGrowth.scala\n",
            "spark-2.4.3-bin-hadoop2.6/examples/src/main/scala/org/apache/spark/examples/mllib/Word2VecExample.scala\n",
            "spark-2.4.3-bin-hadoop2.6/examples/src/main/scala/org/apache/spark/examples/mllib/RankingMetricsExample.scala\n",
            "spark-2.4.3-bin-hadoop2.6/examples/src/main/scala/org/apache/spark/examples/mllib/NaiveBayesExample.scala\n",
            "spark-2.4.3-bin-hadoop2.6/examples/src/main/scala/org/apache/spark/examples/mllib/IsotonicRegressionExample.scala\n",
            "spark-2.4.3-bin-hadoop2.6/examples/src/main/scala/org/apache/spark/examples/mllib/LinearRegression.scala\n",
            "spark-2.4.3-bin-hadoop2.6/examples/src/main/scala/org/apache/spark/examples/mllib/MultivariateSummarizer.scala\n",
            "spark-2.4.3-bin-hadoop2.6/examples/src/main/scala/org/apache/spark/examples/mllib/TallSkinnySVD.scala\n",
            "spark-2.4.3-bin-hadoop2.6/examples/src/main/scala/org/apache/spark/examples/mllib/FPGrowthExample.scala\n",
            "spark-2.4.3-bin-hadoop2.6/examples/src/main/scala/org/apache/spark/examples/mllib/SVMWithSGDExample.scala\n",
            "spark-2.4.3-bin-hadoop2.6/examples/src/main/scala/org/apache/spark/examples/mllib/RecommendationExample.scala\n",
            "spark-2.4.3-bin-hadoop2.6/examples/src/main/scala/org/apache/spark/examples/mllib/PCAOnSourceVectorExample.scala\n",
            "spark-2.4.3-bin-hadoop2.6/examples/src/main/scala/org/apache/spark/examples/mllib/MovieLensALS.scala\n",
            "spark-2.4.3-bin-hadoop2.6/examples/src/main/scala/org/apache/spark/examples/mllib/DecisionTreeClassificationExample.scala\n",
            "spark-2.4.3-bin-hadoop2.6/examples/src/main/scala/org/apache/spark/examples/mllib/KMeansExample.scala\n",
            "spark-2.4.3-bin-hadoop2.6/examples/src/main/scala/org/apache/spark/examples/mllib/PMMLModelExportExample.scala\n",
            "spark-2.4.3-bin-hadoop2.6/examples/src/main/scala/org/apache/spark/examples/mllib/LogisticRegressionWithLBFGSExample.scala\n",
            "spark-2.4.3-bin-hadoop2.6/examples/src/main/scala/org/apache/spark/examples/mllib/StratifiedSamplingExample.scala\n",
            "spark-2.4.3-bin-hadoop2.6/examples/src/main/scala/org/apache/spark/examples/mllib/CosineSimilarity.scala\n",
            "spark-2.4.3-bin-hadoop2.6/examples/src/main/scala/org/apache/spark/examples/mllib/GradientBoostingRegressionExample.scala\n",
            "spark-2.4.3-bin-hadoop2.6/examples/src/main/scala/org/apache/spark/examples/mllib/SummaryStatisticsExample.scala\n",
            "spark-2.4.3-bin-hadoop2.6/examples/src/main/scala/org/apache/spark/examples/mllib/StreamingLogisticRegression.scala\n",
            "spark-2.4.3-bin-hadoop2.6/examples/src/main/scala/org/apache/spark/examples/mllib/RegressionMetricsExample.scala\n",
            "spark-2.4.3-bin-hadoop2.6/examples/src/main/scala/org/apache/spark/examples/mllib/DenseKMeans.scala\n",
            "spark-2.4.3-bin-hadoop2.6/examples/src/main/scala/org/apache/spark/examples/mllib/HypothesisTestingKolmogorovSmirnovTestExample.scala\n",
            "spark-2.4.3-bin-hadoop2.6/examples/src/main/scala/org/apache/spark/examples/mllib/RandomForestClassificationExample.scala\n",
            "spark-2.4.3-bin-hadoop2.6/examples/src/main/scala/org/apache/spark/examples/mllib/LDAExample.scala\n",
            "spark-2.4.3-bin-hadoop2.6/examples/src/main/scala/org/apache/spark/examples/mllib/DecisionTreeRegressionExample.scala\n",
            "spark-2.4.3-bin-hadoop2.6/examples/src/main/scala/org/apache/spark/examples/mllib/PCAExample.scala\n",
            "spark-2.4.3-bin-hadoop2.6/examples/src/main/scala/org/apache/spark/examples/mllib/KernelDensityEstimationExample.scala\n",
            "spark-2.4.3-bin-hadoop2.6/examples/src/main/scala/org/apache/spark/examples/mllib/MulticlassMetricsExample.scala\n",
            "spark-2.4.3-bin-hadoop2.6/examples/src/main/scala/org/apache/spark/examples/mllib/BinaryClassification.scala\n",
            "spark-2.4.3-bin-hadoop2.6/examples/src/main/scala/org/apache/spark/examples/mllib/PowerIterationClusteringExample.scala\n",
            "spark-2.4.3-bin-hadoop2.6/examples/src/main/scala/org/apache/spark/examples/mllib/SVDExample.scala\n",
            "spark-2.4.3-bin-hadoop2.6/examples/src/main/scala/org/apache/spark/examples/mllib/StreamingKMeansExample.scala\n",
            "spark-2.4.3-bin-hadoop2.6/examples/src/main/scala/org/apache/spark/examples/mllib/BisectingKMeansExample.scala\n",
            "spark-2.4.3-bin-hadoop2.6/examples/src/main/scala/org/apache/spark/examples/mllib/MultiLabelMetricsExample.scala\n",
            "spark-2.4.3-bin-hadoop2.6/examples/src/main/scala/org/apache/spark/examples/mllib/BinaryClassificationMetricsExample.scala\n",
            "spark-2.4.3-bin-hadoop2.6/examples/src/main/scala/org/apache/spark/examples/mllib/RandomRDDGeneration.scala\n",
            "spark-2.4.3-bin-hadoop2.6/examples/src/main/scala/org/apache/spark/examples/mllib/AssociationRulesExample.scala\n",
            "spark-2.4.3-bin-hadoop2.6/examples/src/main/scala/org/apache/spark/examples/mllib/HypothesisTestingExample.scala\n",
            "spark-2.4.3-bin-hadoop2.6/examples/src/main/scala/org/apache/spark/examples/mllib/TFIDFExample.scala\n",
            "spark-2.4.3-bin-hadoop2.6/examples/src/main/scala/org/apache/spark/examples/mllib/LinearRegressionWithSGDExample.scala\n",
            "spark-2.4.3-bin-hadoop2.6/examples/src/main/scala/org/apache/spark/examples/mllib/PCAOnRowMatrixExample.scala\n",
            "spark-2.4.3-bin-hadoop2.6/examples/src/main/scala/org/apache/spark/examples/mllib/NormalizerExample.scala\n",
            "spark-2.4.3-bin-hadoop2.6/examples/src/main/scala/org/apache/spark/examples/mllib/SparseNaiveBayes.scala\n",
            "spark-2.4.3-bin-hadoop2.6/examples/src/main/scala/org/apache/spark/examples/mllib/ChiSqSelectorExample.scala\n",
            "spark-2.4.3-bin-hadoop2.6/examples/src/main/scala/org/apache/spark/examples/mllib/CorrelationsExample.scala\n",
            "spark-2.4.3-bin-hadoop2.6/examples/src/main/scala/org/apache/spark/examples/mllib/RandomForestRegressionExample.scala\n",
            "spark-2.4.3-bin-hadoop2.6/examples/src/main/scala/org/apache/spark/examples/mllib/AbstractParams.scala\n",
            "spark-2.4.3-bin-hadoop2.6/examples/src/main/scala/org/apache/spark/examples/SkewedGroupByTest.scala\n",
            "spark-2.4.3-bin-hadoop2.6/examples/src/main/scala/org/apache/spark/examples/SparkPi.scala\n",
            "spark-2.4.3-bin-hadoop2.6/examples/src/main/scala/org/apache/spark/examples/ml/\n",
            "spark-2.4.3-bin-hadoop2.6/examples/src/main/scala/org/apache/spark/examples/ml/OneVsRestExample.scala\n",
            "spark-2.4.3-bin-hadoop2.6/examples/src/main/scala/org/apache/spark/examples/ml/DecisionTreeExample.scala\n",
            "spark-2.4.3-bin-hadoop2.6/examples/src/main/scala/org/apache/spark/examples/ml/CountVectorizerExample.scala\n",
            "spark-2.4.3-bin-hadoop2.6/examples/src/main/scala/org/apache/spark/examples/ml/ImputerExample.scala\n",
            "spark-2.4.3-bin-hadoop2.6/examples/src/main/scala/org/apache/spark/examples/ml/StandardScalerExample.scala\n",
            "spark-2.4.3-bin-hadoop2.6/examples/src/main/scala/org/apache/spark/examples/ml/GaussianMixtureExample.scala\n",
            "spark-2.4.3-bin-hadoop2.6/examples/src/main/scala/org/apache/spark/examples/ml/BucketedRandomProjectionLSHExample.scala\n",
            "spark-2.4.3-bin-hadoop2.6/examples/src/main/scala/org/apache/spark/examples/ml/ElementwiseProductExample.scala\n",
            "spark-2.4.3-bin-hadoop2.6/examples/src/main/scala/org/apache/spark/examples/ml/CorrelationExample.scala\n",
            "spark-2.4.3-bin-hadoop2.6/examples/src/main/scala/org/apache/spark/examples/ml/ModelSelectionViaCrossValidationExample.scala\n",
            "spark-2.4.3-bin-hadoop2.6/examples/src/main/scala/org/apache/spark/examples/ml/ModelSelectionViaTrainValidationSplitExample.scala\n",
            "spark-2.4.3-bin-hadoop2.6/examples/src/main/scala/org/apache/spark/examples/ml/RandomForestRegressorExample.scala\n",
            "spark-2.4.3-bin-hadoop2.6/examples/src/main/scala/org/apache/spark/examples/ml/MultilayerPerceptronClassifierExample.scala\n",
            "spark-2.4.3-bin-hadoop2.6/examples/src/main/scala/org/apache/spark/examples/ml/LogisticRegressionWithElasticNetExample.scala\n",
            "spark-2.4.3-bin-hadoop2.6/examples/src/main/scala/org/apache/spark/examples/ml/LogisticRegressionExample.scala\n",
            "spark-2.4.3-bin-hadoop2.6/examples/src/main/scala/org/apache/spark/examples/ml/VectorSizeHintExample.scala\n",
            "spark-2.4.3-bin-hadoop2.6/examples/src/main/scala/org/apache/spark/examples/ml/SummarizerExample.scala\n",
            "spark-2.4.3-bin-hadoop2.6/examples/src/main/scala/org/apache/spark/examples/ml/PrefixSpanExample.scala\n",
            "spark-2.4.3-bin-hadoop2.6/examples/src/main/scala/org/apache/spark/examples/ml/ALSExample.scala\n",
            "spark-2.4.3-bin-hadoop2.6/examples/src/main/scala/org/apache/spark/examples/ml/MinMaxScalerExample.scala\n",
            "spark-2.4.3-bin-hadoop2.6/examples/src/main/scala/org/apache/spark/examples/ml/Word2VecExample.scala\n",
            "spark-2.4.3-bin-hadoop2.6/examples/src/main/scala/org/apache/spark/examples/ml/InteractionExample.scala\n",
            "spark-2.4.3-bin-hadoop2.6/examples/src/main/scala/org/apache/spark/examples/ml/NaiveBayesExample.scala\n",
            "spark-2.4.3-bin-hadoop2.6/examples/src/main/scala/org/apache/spark/examples/ml/IsotonicRegressionExample.scala\n",
            "spark-2.4.3-bin-hadoop2.6/examples/src/main/scala/org/apache/spark/examples/ml/StringIndexerExample.scala\n",
            "spark-2.4.3-bin-hadoop2.6/examples/src/main/scala/org/apache/spark/examples/ml/ChiSquareTestExample.scala\n",
            "spark-2.4.3-bin-hadoop2.6/examples/src/main/scala/org/apache/spark/examples/ml/FPGrowthExample.scala\n",
            "spark-2.4.3-bin-hadoop2.6/examples/src/main/scala/org/apache/spark/examples/ml/DecisionTreeClassificationExample.scala\n",
            "spark-2.4.3-bin-hadoop2.6/examples/src/main/scala/org/apache/spark/examples/ml/KMeansExample.scala\n",
            "spark-2.4.3-bin-hadoop2.6/examples/src/main/scala/org/apache/spark/examples/ml/StopWordsRemoverExample.scala\n",
            "spark-2.4.3-bin-hadoop2.6/examples/src/main/scala/org/apache/spark/examples/ml/FeatureHasherExample.scala\n",
            "spark-2.4.3-bin-hadoop2.6/examples/src/main/scala/org/apache/spark/examples/ml/LinearRegressionWithElasticNetExample.scala\n",
            "spark-2.4.3-bin-hadoop2.6/examples/src/main/scala/org/apache/spark/examples/ml/LogisticRegressionSummaryExample.scala\n",
            "spark-2.4.3-bin-hadoop2.6/examples/src/main/scala/org/apache/spark/examples/ml/IndexToStringExample.scala\n",
            "spark-2.4.3-bin-hadoop2.6/examples/src/main/scala/org/apache/spark/examples/ml/GradientBoostedTreeClassifierExample.scala\n",
            "spark-2.4.3-bin-hadoop2.6/examples/src/main/scala/org/apache/spark/examples/ml/GradientBoostedTreeRegressorExample.scala\n",
            "spark-2.4.3-bin-hadoop2.6/examples/src/main/scala/org/apache/spark/examples/ml/SQLTransformerExample.scala\n",
            "spark-2.4.3-bin-hadoop2.6/examples/src/main/scala/org/apache/spark/examples/ml/LDAExample.scala\n",
            "spark-2.4.3-bin-hadoop2.6/examples/src/main/scala/org/apache/spark/examples/ml/DecisionTreeRegressionExample.scala\n",
            "spark-2.4.3-bin-hadoop2.6/examples/src/main/scala/org/apache/spark/examples/ml/LinearSVCExample.scala\n",
            "spark-2.4.3-bin-hadoop2.6/examples/src/main/scala/org/apache/spark/examples/ml/TfIdfExample.scala\n",
            "spark-2.4.3-bin-hadoop2.6/examples/src/main/scala/org/apache/spark/examples/ml/PCAExample.scala\n",
            "spark-2.4.3-bin-hadoop2.6/examples/src/main/scala/org/apache/spark/examples/ml/MulticlassLogisticRegressionWithElasticNetExample.scala\n",
            "spark-2.4.3-bin-hadoop2.6/examples/src/main/scala/org/apache/spark/examples/ml/GeneralizedLinearRegressionExample.scala\n",
            "spark-2.4.3-bin-hadoop2.6/examples/src/main/scala/org/apache/spark/examples/ml/MinHashLSHExample.scala\n",
            "spark-2.4.3-bin-hadoop2.6/examples/src/main/scala/org/apache/spark/examples/ml/QuantileDiscretizerExample.scala\n",
            "spark-2.4.3-bin-hadoop2.6/examples/src/main/scala/org/apache/spark/examples/ml/DeveloperApiExample.scala\n",
            "spark-2.4.3-bin-hadoop2.6/examples/src/main/scala/org/apache/spark/examples/ml/VectorIndexerExample.scala\n",
            "spark-2.4.3-bin-hadoop2.6/examples/src/main/scala/org/apache/spark/examples/ml/LinearRegressionExample.scala\n",
            "spark-2.4.3-bin-hadoop2.6/examples/src/main/scala/org/apache/spark/examples/ml/DCTExample.scala\n",
            "spark-2.4.3-bin-hadoop2.6/examples/src/main/scala/org/apache/spark/examples/ml/PolynomialExpansionExample.scala\n",
            "spark-2.4.3-bin-hadoop2.6/examples/src/main/scala/org/apache/spark/examples/ml/OneHotEncoderEstimatorExample.scala\n",
            "spark-2.4.3-bin-hadoop2.6/examples/src/main/scala/org/apache/spark/examples/ml/BinarizerExample.scala\n",
            "spark-2.4.3-bin-hadoop2.6/examples/src/main/scala/org/apache/spark/examples/ml/PowerIterationClusteringExample.scala\n",
            "spark-2.4.3-bin-hadoop2.6/examples/src/main/scala/org/apache/spark/examples/ml/DataFrameExample.scala\n",
            "spark-2.4.3-bin-hadoop2.6/examples/src/main/scala/org/apache/spark/examples/ml/RandomForestExample.scala\n",
            "spark-2.4.3-bin-hadoop2.6/examples/src/main/scala/org/apache/spark/examples/ml/MaxAbsScalerExample.scala\n",
            "spark-2.4.3-bin-hadoop2.6/examples/src/main/scala/org/apache/spark/examples/ml/RFormulaExample.scala\n",
            "spark-2.4.3-bin-hadoop2.6/examples/src/main/scala/org/apache/spark/examples/ml/TokenizerExample.scala\n",
            "spark-2.4.3-bin-hadoop2.6/examples/src/main/scala/org/apache/spark/examples/ml/VectorSlicerExample.scala\n",
            "spark-2.4.3-bin-hadoop2.6/examples/src/main/scala/org/apache/spark/examples/ml/RandomForestClassifierExample.scala\n",
            "spark-2.4.3-bin-hadoop2.6/examples/src/main/scala/org/apache/spark/examples/ml/NGramExample.scala\n",
            "spark-2.4.3-bin-hadoop2.6/examples/src/main/scala/org/apache/spark/examples/ml/BisectingKMeansExample.scala\n",
            "spark-2.4.3-bin-hadoop2.6/examples/src/main/scala/org/apache/spark/examples/ml/PipelineExample.scala\n",
            "spark-2.4.3-bin-hadoop2.6/examples/src/main/scala/org/apache/spark/examples/ml/VectorAssemblerExample.scala\n",
            "spark-2.4.3-bin-hadoop2.6/examples/src/main/scala/org/apache/spark/examples/ml/AFTSurvivalRegressionExample.scala\n",
            "spark-2.4.3-bin-hadoop2.6/examples/src/main/scala/org/apache/spark/examples/ml/BucketizerExample.scala\n",
            "spark-2.4.3-bin-hadoop2.6/examples/src/main/scala/org/apache/spark/examples/ml/UnaryTransformerExample.scala\n",
            "spark-2.4.3-bin-hadoop2.6/examples/src/main/scala/org/apache/spark/examples/ml/GBTExample.scala\n",
            "spark-2.4.3-bin-hadoop2.6/examples/src/main/scala/org/apache/spark/examples/ml/NormalizerExample.scala\n",
            "spark-2.4.3-bin-hadoop2.6/examples/src/main/scala/org/apache/spark/examples/ml/EstimatorTransformerParamExample.scala\n",
            "spark-2.4.3-bin-hadoop2.6/examples/src/main/scala/org/apache/spark/examples/ml/ChiSqSelectorExample.scala\n",
            "spark-2.4.3-bin-hadoop2.6/examples/src/main/scala/org/apache/spark/examples/streaming/\n",
            "spark-2.4.3-bin-hadoop2.6/examples/src/main/scala/org/apache/spark/examples/streaming/CustomReceiver.scala\n",
            "spark-2.4.3-bin-hadoop2.6/examples/src/main/scala/org/apache/spark/examples/streaming/SqlNetworkWordCount.scala\n",
            "spark-2.4.3-bin-hadoop2.6/examples/src/main/scala/org/apache/spark/examples/streaming/RawNetworkGrep.scala\n",
            "spark-2.4.3-bin-hadoop2.6/examples/src/main/scala/org/apache/spark/examples/streaming/StatefulNetworkWordCount.scala\n",
            "spark-2.4.3-bin-hadoop2.6/examples/src/main/scala/org/apache/spark/examples/streaming/RecoverableNetworkWordCount.scala\n",
            "spark-2.4.3-bin-hadoop2.6/examples/src/main/scala/org/apache/spark/examples/streaming/clickstream/\n",
            "spark-2.4.3-bin-hadoop2.6/examples/src/main/scala/org/apache/spark/examples/streaming/clickstream/PageViewGenerator.scala\n",
            "spark-2.4.3-bin-hadoop2.6/examples/src/main/scala/org/apache/spark/examples/streaming/clickstream/PageViewStream.scala\n",
            "spark-2.4.3-bin-hadoop2.6/examples/src/main/scala/org/apache/spark/examples/streaming/DirectKafkaWordCount.scala\n",
            "spark-2.4.3-bin-hadoop2.6/examples/src/main/scala/org/apache/spark/examples/streaming/HdfsWordCount.scala\n",
            "spark-2.4.3-bin-hadoop2.6/examples/src/main/scala/org/apache/spark/examples/streaming/QueueStream.scala\n",
            "spark-2.4.3-bin-hadoop2.6/examples/src/main/scala/org/apache/spark/examples/streaming/StreamingExamples.scala\n",
            "spark-2.4.3-bin-hadoop2.6/examples/src/main/scala/org/apache/spark/examples/streaming/NetworkWordCount.scala\n",
            "spark-2.4.3-bin-hadoop2.6/examples/src/main/scala/org/apache/spark/examples/SparkKMeans.scala\n",
            "spark-2.4.3-bin-hadoop2.6/examples/src/main/scala/org/apache/spark/examples/DFSReadWriteTest.scala\n",
            "spark-2.4.3-bin-hadoop2.6/examples/src/main/scala/org/apache/spark/examples/ExceptionHandlingTest.scala\n",
            "spark-2.4.3-bin-hadoop2.6/examples/src/main/scala/org/apache/spark/examples/SparkALS.scala\n",
            "spark-2.4.3-bin-hadoop2.6/examples/src/main/scala/org/apache/spark/examples/LogQuery.scala\n",
            "spark-2.4.3-bin-hadoop2.6/examples/src/main/scala/org/apache/spark/examples/LocalLR.scala\n",
            "spark-2.4.3-bin-hadoop2.6/examples/src/main/scala/org/apache/spark/examples/sql/\n",
            "spark-2.4.3-bin-hadoop2.6/examples/src/main/scala/org/apache/spark/examples/sql/SparkSQLExample.scala\n",
            "spark-2.4.3-bin-hadoop2.6/examples/src/main/scala/org/apache/spark/examples/sql/hive/\n",
            "spark-2.4.3-bin-hadoop2.6/examples/src/main/scala/org/apache/spark/examples/sql/hive/SparkHiveExample.scala\n",
            "spark-2.4.3-bin-hadoop2.6/examples/src/main/scala/org/apache/spark/examples/sql/RDDRelation.scala\n",
            "spark-2.4.3-bin-hadoop2.6/examples/src/main/scala/org/apache/spark/examples/sql/streaming/\n",
            "spark-2.4.3-bin-hadoop2.6/examples/src/main/scala/org/apache/spark/examples/sql/streaming/StructuredNetworkWordCount.scala\n",
            "spark-2.4.3-bin-hadoop2.6/examples/src/main/scala/org/apache/spark/examples/sql/streaming/StructuredNetworkWordCountWindowed.scala\n",
            "spark-2.4.3-bin-hadoop2.6/examples/src/main/scala/org/apache/spark/examples/sql/streaming/StructuredKafkaWordCount.scala\n",
            "spark-2.4.3-bin-hadoop2.6/examples/src/main/scala/org/apache/spark/examples/sql/streaming/StructuredSessionization.scala\n",
            "spark-2.4.3-bin-hadoop2.6/examples/src/main/scala/org/apache/spark/examples/sql/UserDefinedUntypedAggregation.scala\n",
            "spark-2.4.3-bin-hadoop2.6/examples/src/main/scala/org/apache/spark/examples/sql/UserDefinedTypedAggregation.scala\n",
            "spark-2.4.3-bin-hadoop2.6/examples/src/main/scala/org/apache/spark/examples/sql/SQLDataSourceExample.scala\n",
            "spark-2.4.3-bin-hadoop2.6/examples/src/main/scala/org/apache/spark/examples/MultiBroadcastTest.scala\n",
            "spark-2.4.3-bin-hadoop2.6/examples/src/main/scala/org/apache/spark/examples/LocalALS.scala\n",
            "spark-2.4.3-bin-hadoop2.6/examples/src/main/scala/org/apache/spark/examples/DriverSubmissionTest.scala\n",
            "spark-2.4.3-bin-hadoop2.6/examples/src/main/scala/org/apache/spark/examples/LocalFileLR.scala\n",
            "spark-2.4.3-bin-hadoop2.6/examples/src/main/scala/org/apache/spark/examples/SimpleSkewedGroupByTest.scala\n",
            "spark-2.4.3-bin-hadoop2.6/examples/src/main/scala/org/apache/spark/examples/GroupByTest.scala\n",
            "spark-2.4.3-bin-hadoop2.6/examples/src/main/scala/org/apache/spark/examples/SparkRemoteFileTest.scala\n",
            "spark-2.4.3-bin-hadoop2.6/examples/src/main/java/\n",
            "spark-2.4.3-bin-hadoop2.6/examples/src/main/java/org/\n",
            "spark-2.4.3-bin-hadoop2.6/examples/src/main/java/org/apache/\n",
            "spark-2.4.3-bin-hadoop2.6/examples/src/main/java/org/apache/spark/\n",
            "spark-2.4.3-bin-hadoop2.6/examples/src/main/java/org/apache/spark/examples/\n",
            "spark-2.4.3-bin-hadoop2.6/examples/src/main/java/org/apache/spark/examples/JavaSparkPi.java\n",
            "spark-2.4.3-bin-hadoop2.6/examples/src/main/java/org/apache/spark/examples/JavaTC.java\n",
            "spark-2.4.3-bin-hadoop2.6/examples/src/main/java/org/apache/spark/examples/JavaHdfsLR.java\n",
            "spark-2.4.3-bin-hadoop2.6/examples/src/main/java/org/apache/spark/examples/JavaStatusTrackerDemo.java\n",
            "spark-2.4.3-bin-hadoop2.6/examples/src/main/java/org/apache/spark/examples/mllib/\n",
            "spark-2.4.3-bin-hadoop2.6/examples/src/main/java/org/apache/spark/examples/mllib/JavaGradientBoostingClassificationExample.java\n",
            "spark-2.4.3-bin-hadoop2.6/examples/src/main/java/org/apache/spark/examples/mllib/JavaHypothesisTestingExample.java\n",
            "spark-2.4.3-bin-hadoop2.6/examples/src/main/java/org/apache/spark/examples/mllib/JavaElementwiseProductExample.java\n",
            "spark-2.4.3-bin-hadoop2.6/examples/src/main/java/org/apache/spark/examples/mllib/JavaGaussianMixtureExample.java\n",
            "spark-2.4.3-bin-hadoop2.6/examples/src/main/java/org/apache/spark/examples/mllib/JavaAssociationRulesExample.java\n",
            "spark-2.4.3-bin-hadoop2.6/examples/src/main/java/org/apache/spark/examples/mllib/JavaDecisionTreeRegressionExample.java\n",
            "spark-2.4.3-bin-hadoop2.6/examples/src/main/java/org/apache/spark/examples/mllib/JavaBinaryClassificationMetricsExample.java\n",
            "spark-2.4.3-bin-hadoop2.6/examples/src/main/java/org/apache/spark/examples/mllib/JavaLBFGSExample.java\n",
            "spark-2.4.3-bin-hadoop2.6/examples/src/main/java/org/apache/spark/examples/mllib/JavaPowerIterationClusteringExample.java\n",
            "spark-2.4.3-bin-hadoop2.6/examples/src/main/java/org/apache/spark/examples/mllib/JavaMulticlassClassificationMetricsExample.java\n",
            "spark-2.4.3-bin-hadoop2.6/examples/src/main/java/org/apache/spark/examples/mllib/JavaRankingMetricsExample.java\n",
            "spark-2.4.3-bin-hadoop2.6/examples/src/main/java/org/apache/spark/examples/mllib/JavaRecommendationExample.java\n",
            "spark-2.4.3-bin-hadoop2.6/examples/src/main/java/org/apache/spark/examples/mllib/JavaHypothesisTestingKolmogorovSmirnovTestExample.java\n",
            "spark-2.4.3-bin-hadoop2.6/examples/src/main/java/org/apache/spark/examples/mllib/JavaRegressionMetricsExample.java\n",
            "spark-2.4.3-bin-hadoop2.6/examples/src/main/java/org/apache/spark/examples/mllib/JavaSVDExample.java\n",
            "spark-2.4.3-bin-hadoop2.6/examples/src/main/java/org/apache/spark/examples/mllib/JavaRandomForestClassificationExample.java\n",
            "spark-2.4.3-bin-hadoop2.6/examples/src/main/java/org/apache/spark/examples/mllib/JavaRandomForestRegressionExample.java\n",
            "spark-2.4.3-bin-hadoop2.6/examples/src/main/java/org/apache/spark/examples/mllib/JavaSummaryStatisticsExample.java\n",
            "spark-2.4.3-bin-hadoop2.6/examples/src/main/java/org/apache/spark/examples/mllib/JavaGradientBoostingRegressionExample.java\n",
            "spark-2.4.3-bin-hadoop2.6/examples/src/main/java/org/apache/spark/examples/mllib/JavaIsotonicRegressionExample.java\n",
            "spark-2.4.3-bin-hadoop2.6/examples/src/main/java/org/apache/spark/examples/mllib/JavaDecisionTreeClassificationExample.java\n",
            "spark-2.4.3-bin-hadoop2.6/examples/src/main/java/org/apache/spark/examples/mllib/JavaALS.java\n",
            "spark-2.4.3-bin-hadoop2.6/examples/src/main/java/org/apache/spark/examples/mllib/JavaKMeansExample.java\n",
            "spark-2.4.3-bin-hadoop2.6/examples/src/main/java/org/apache/spark/examples/mllib/JavaSVMWithSGDExample.java\n",
            "spark-2.4.3-bin-hadoop2.6/examples/src/main/java/org/apache/spark/examples/mllib/JavaLinearRegressionWithSGDExample.java\n",
            "spark-2.4.3-bin-hadoop2.6/examples/src/main/java/org/apache/spark/examples/mllib/JavaLatentDirichletAllocationExample.java\n",
            "spark-2.4.3-bin-hadoop2.6/examples/src/main/java/org/apache/spark/examples/mllib/JavaMultiLabelClassificationMetricsExample.java\n",
            "spark-2.4.3-bin-hadoop2.6/examples/src/main/java/org/apache/spark/examples/mllib/JavaBisectingKMeansExample.java\n",
            "spark-2.4.3-bin-hadoop2.6/examples/src/main/java/org/apache/spark/examples/mllib/JavaStratifiedSamplingExample.java\n",
            "spark-2.4.3-bin-hadoop2.6/examples/src/main/java/org/apache/spark/examples/mllib/JavaSimpleFPGrowth.java\n",
            "spark-2.4.3-bin-hadoop2.6/examples/src/main/java/org/apache/spark/examples/mllib/JavaLogisticRegressionWithLBFGSExample.java\n",
            "spark-2.4.3-bin-hadoop2.6/examples/src/main/java/org/apache/spark/examples/mllib/JavaPrefixSpanExample.java\n",
            "spark-2.4.3-bin-hadoop2.6/examples/src/main/java/org/apache/spark/examples/mllib/JavaPCAExample.java\n",
            "spark-2.4.3-bin-hadoop2.6/examples/src/main/java/org/apache/spark/examples/mllib/JavaCorrelationsExample.java\n",
            "spark-2.4.3-bin-hadoop2.6/examples/src/main/java/org/apache/spark/examples/mllib/JavaStreamingTestExample.java\n",
            "spark-2.4.3-bin-hadoop2.6/examples/src/main/java/org/apache/spark/examples/mllib/JavaNaiveBayesExample.java\n",
            "spark-2.4.3-bin-hadoop2.6/examples/src/main/java/org/apache/spark/examples/mllib/JavaChiSqSelectorExample.java\n",
            "spark-2.4.3-bin-hadoop2.6/examples/src/main/java/org/apache/spark/examples/mllib/JavaKernelDensityEstimationExample.java\n",
            "spark-2.4.3-bin-hadoop2.6/examples/src/main/java/org/apache/spark/examples/ml/\n",
            "spark-2.4.3-bin-hadoop2.6/examples/src/main/java/org/apache/spark/examples/ml/JavaBinarizerExample.java\n",
            "spark-2.4.3-bin-hadoop2.6/examples/src/main/java/org/apache/spark/examples/ml/JavaElementwiseProductExample.java\n",
            "spark-2.4.3-bin-hadoop2.6/examples/src/main/java/org/apache/spark/examples/ml/JavaInteractionExample.java\n",
            "spark-2.4.3-bin-hadoop2.6/examples/src/main/java/org/apache/spark/examples/ml/JavaGaussianMixtureExample.java\n",
            "spark-2.4.3-bin-hadoop2.6/examples/src/main/java/org/apache/spark/examples/ml/JavaBucketedRandomProjectionLSHExample.java\n",
            "spark-2.4.3-bin-hadoop2.6/examples/src/main/java/org/apache/spark/examples/ml/JavaLogisticRegressionWithElasticNetExample.java\n",
            "spark-2.4.3-bin-hadoop2.6/examples/src/main/java/org/apache/spark/examples/ml/JavaBucketizerExample.java\n",
            "spark-2.4.3-bin-hadoop2.6/examples/src/main/java/org/apache/spark/examples/ml/JavaDecisionTreeRegressionExample.java\n",
            "spark-2.4.3-bin-hadoop2.6/examples/src/main/java/org/apache/spark/examples/ml/JavaIndexToStringExample.java\n",
            "spark-2.4.3-bin-hadoop2.6/examples/src/main/java/org/apache/spark/examples/ml/JavaCorrelationExample.java\n",
            "spark-2.4.3-bin-hadoop2.6/examples/src/main/java/org/apache/spark/examples/ml/JavaMaxAbsScalerExample.java\n",
            "spark-2.4.3-bin-hadoop2.6/examples/src/main/java/org/apache/spark/examples/ml/JavaGradientBoostedTreeClassifierExample.java\n",
            "spark-2.4.3-bin-hadoop2.6/examples/src/main/java/org/apache/spark/examples/ml/JavaPowerIterationClusteringExample.java\n",
            "spark-2.4.3-bin-hadoop2.6/examples/src/main/java/org/apache/spark/examples/ml/JavaDocument.java\n",
            "spark-2.4.3-bin-hadoop2.6/examples/src/main/java/org/apache/spark/examples/ml/JavaLogisticRegressionSummaryExample.java\n",
            "spark-2.4.3-bin-hadoop2.6/examples/src/main/java/org/apache/spark/examples/ml/JavaStandardScalerExample.java\n",
            "spark-2.4.3-bin-hadoop2.6/examples/src/main/java/org/apache/spark/examples/ml/JavaMulticlassLogisticRegressionWithElasticNetExample.java\n",
            "spark-2.4.3-bin-hadoop2.6/examples/src/main/java/org/apache/spark/examples/ml/JavaChiSquareTestExample.java\n",
            "spark-2.4.3-bin-hadoop2.6/examples/src/main/java/org/apache/spark/examples/ml/JavaFPGrowthExample.java\n",
            "spark-2.4.3-bin-hadoop2.6/examples/src/main/java/org/apache/spark/examples/ml/JavaQuantileDiscretizerExample.java\n",
            "spark-2.4.3-bin-hadoop2.6/examples/src/main/java/org/apache/spark/examples/ml/JavaPolynomialExpansionExample.java\n",
            "spark-2.4.3-bin-hadoop2.6/examples/src/main/java/org/apache/spark/examples/ml/JavaTokenizerExample.java\n",
            "spark-2.4.3-bin-hadoop2.6/examples/src/main/java/org/apache/spark/examples/ml/JavaFeatureHasherExample.java\n",
            "spark-2.4.3-bin-hadoop2.6/examples/src/main/java/org/apache/spark/examples/ml/JavaVectorIndexerExample.java\n",
            "spark-2.4.3-bin-hadoop2.6/examples/src/main/java/org/apache/spark/examples/ml/JavaVectorSlicerExample.java\n",
            "spark-2.4.3-bin-hadoop2.6/examples/src/main/java/org/apache/spark/examples/ml/JavaStringIndexerExample.java\n",
            "spark-2.4.3-bin-hadoop2.6/examples/src/main/java/org/apache/spark/examples/ml/JavaIsotonicRegressionExample.java\n",
            "spark-2.4.3-bin-hadoop2.6/examples/src/main/java/org/apache/spark/examples/ml/JavaMultilayerPerceptronClassifierExample.java\n",
            "spark-2.4.3-bin-hadoop2.6/examples/src/main/java/org/apache/spark/examples/ml/JavaOneVsRestExample.java\n",
            "spark-2.4.3-bin-hadoop2.6/examples/src/main/java/org/apache/spark/examples/ml/JavaRFormulaExample.java\n",
            "spark-2.4.3-bin-hadoop2.6/examples/src/main/java/org/apache/spark/examples/ml/JavaDecisionTreeClassificationExample.java\n",
            "spark-2.4.3-bin-hadoop2.6/examples/src/main/java/org/apache/spark/examples/ml/JavaLDAExample.java\n",
            "spark-2.4.3-bin-hadoop2.6/examples/src/main/java/org/apache/spark/examples/ml/JavaDCTExample.java\n",
            "spark-2.4.3-bin-hadoop2.6/examples/src/main/java/org/apache/spark/examples/ml/JavaKMeansExample.java\n",
            "spark-2.4.3-bin-hadoop2.6/examples/src/main/java/org/apache/spark/examples/ml/JavaModelSelectionViaCrossValidationExample.java\n",
            "spark-2.4.3-bin-hadoop2.6/examples/src/main/java/org/apache/spark/examples/ml/JavaSummarizerExample.java\n",
            "spark-2.4.3-bin-hadoop2.6/examples/src/main/java/org/apache/spark/examples/ml/JavaRandomForestClassifierExample.java\n",
            "spark-2.4.3-bin-hadoop2.6/examples/src/main/java/org/apache/spark/examples/ml/JavaImputerExample.java\n",
            "spark-2.4.3-bin-hadoop2.6/examples/src/main/java/org/apache/spark/examples/ml/JavaMinMaxScalerExample.java\n",
            "spark-2.4.3-bin-hadoop2.6/examples/src/main/java/org/apache/spark/examples/ml/JavaEstimatorTransformerParamExample.java\n",
            "spark-2.4.3-bin-hadoop2.6/examples/src/main/java/org/apache/spark/examples/ml/JavaOneHotEncoderEstimatorExample.java\n",
            "spark-2.4.3-bin-hadoop2.6/examples/src/main/java/org/apache/spark/examples/ml/JavaSQLTransformerExample.java\n",
            "spark-2.4.3-bin-hadoop2.6/examples/src/main/java/org/apache/spark/examples/ml/JavaLabeledDocument.java\n",
            "spark-2.4.3-bin-hadoop2.6/examples/src/main/java/org/apache/spark/examples/ml/JavaStopWordsRemoverExample.java\n",
            "spark-2.4.3-bin-hadoop2.6/examples/src/main/java/org/apache/spark/examples/ml/JavaTfIdfExample.java\n",
            "spark-2.4.3-bin-hadoop2.6/examples/src/main/java/org/apache/spark/examples/ml/JavaMinHashLSHExample.java\n",
            "spark-2.4.3-bin-hadoop2.6/examples/src/main/java/org/apache/spark/examples/ml/JavaBisectingKMeansExample.java\n",
            "spark-2.4.3-bin-hadoop2.6/examples/src/main/java/org/apache/spark/examples/ml/JavaLinearRegressionWithElasticNetExample.java\n",
            "spark-2.4.3-bin-hadoop2.6/examples/src/main/java/org/apache/spark/examples/ml/JavaNGramExample.java\n",
            "spark-2.4.3-bin-hadoop2.6/examples/src/main/java/org/apache/spark/examples/ml/JavaModelSelectionViaTrainValidationSplitExample.java\n",
            "spark-2.4.3-bin-hadoop2.6/examples/src/main/java/org/apache/spark/examples/ml/JavaPrefixSpanExample.java\n",
            "spark-2.4.3-bin-hadoop2.6/examples/src/main/java/org/apache/spark/examples/ml/JavaWord2VecExample.java\n",
            "spark-2.4.3-bin-hadoop2.6/examples/src/main/java/org/apache/spark/examples/ml/JavaGradientBoostedTreeRegressorExample.java\n",
            "spark-2.4.3-bin-hadoop2.6/examples/src/main/java/org/apache/spark/examples/ml/JavaAFTSurvivalRegressionExample.java\n",
            "spark-2.4.3-bin-hadoop2.6/examples/src/main/java/org/apache/spark/examples/ml/JavaPCAExample.java\n",
            "spark-2.4.3-bin-hadoop2.6/examples/src/main/java/org/apache/spark/examples/ml/JavaCountVectorizerExample.java\n",
            "spark-2.4.3-bin-hadoop2.6/examples/src/main/java/org/apache/spark/examples/ml/JavaGeneralizedLinearRegressionExample.java\n",
            "spark-2.4.3-bin-hadoop2.6/examples/src/main/java/org/apache/spark/examples/ml/JavaVectorSizeHintExample.java\n",
            "spark-2.4.3-bin-hadoop2.6/examples/src/main/java/org/apache/spark/examples/ml/JavaNaiveBayesExample.java\n",
            "spark-2.4.3-bin-hadoop2.6/examples/src/main/java/org/apache/spark/examples/ml/JavaNormalizerExample.java\n",
            "spark-2.4.3-bin-hadoop2.6/examples/src/main/java/org/apache/spark/examples/ml/JavaChiSqSelectorExample.java\n",
            "spark-2.4.3-bin-hadoop2.6/examples/src/main/java/org/apache/spark/examples/ml/JavaVectorAssemblerExample.java\n",
            "spark-2.4.3-bin-hadoop2.6/examples/src/main/java/org/apache/spark/examples/ml/JavaRandomForestRegressorExample.java\n",
            "spark-2.4.3-bin-hadoop2.6/examples/src/main/java/org/apache/spark/examples/ml/JavaLinearSVCExample.java\n",
            "spark-2.4.3-bin-hadoop2.6/examples/src/main/java/org/apache/spark/examples/ml/JavaPipelineExample.java\n",
            "spark-2.4.3-bin-hadoop2.6/examples/src/main/java/org/apache/spark/examples/ml/JavaALSExample.java\n",
            "spark-2.4.3-bin-hadoop2.6/examples/src/main/java/org/apache/spark/examples/streaming/\n",
            "spark-2.4.3-bin-hadoop2.6/examples/src/main/java/org/apache/spark/examples/streaming/JavaStatefulNetworkWordCount.java\n",
            "spark-2.4.3-bin-hadoop2.6/examples/src/main/java/org/apache/spark/examples/streaming/JavaNetworkWordCount.java\n",
            "spark-2.4.3-bin-hadoop2.6/examples/src/main/java/org/apache/spark/examples/streaming/JavaCustomReceiver.java\n",
            "spark-2.4.3-bin-hadoop2.6/examples/src/main/java/org/apache/spark/examples/streaming/JavaRecoverableNetworkWordCount.java\n",
            "spark-2.4.3-bin-hadoop2.6/examples/src/main/java/org/apache/spark/examples/streaming/JavaDirectKafkaWordCount.java\n",
            "spark-2.4.3-bin-hadoop2.6/examples/src/main/java/org/apache/spark/examples/streaming/JavaQueueStream.java\n",
            "spark-2.4.3-bin-hadoop2.6/examples/src/main/java/org/apache/spark/examples/streaming/JavaSqlNetworkWordCount.java\n",
            "spark-2.4.3-bin-hadoop2.6/examples/src/main/java/org/apache/spark/examples/streaming/JavaRecord.java\n",
            "spark-2.4.3-bin-hadoop2.6/examples/src/main/java/org/apache/spark/examples/sql/\n",
            "spark-2.4.3-bin-hadoop2.6/examples/src/main/java/org/apache/spark/examples/sql/JavaSparkSQLExample.java\n",
            "spark-2.4.3-bin-hadoop2.6/examples/src/main/java/org/apache/spark/examples/sql/hive/\n",
            "spark-2.4.3-bin-hadoop2.6/examples/src/main/java/org/apache/spark/examples/sql/hive/JavaSparkHiveExample.java\n",
            "spark-2.4.3-bin-hadoop2.6/examples/src/main/java/org/apache/spark/examples/sql/JavaUserDefinedTypedAggregation.java\n",
            "spark-2.4.3-bin-hadoop2.6/examples/src/main/java/org/apache/spark/examples/sql/JavaUserDefinedUntypedAggregation.java\n",
            "spark-2.4.3-bin-hadoop2.6/examples/src/main/java/org/apache/spark/examples/sql/streaming/\n",
            "spark-2.4.3-bin-hadoop2.6/examples/src/main/java/org/apache/spark/examples/sql/streaming/JavaStructuredKafkaWordCount.java\n",
            "spark-2.4.3-bin-hadoop2.6/examples/src/main/java/org/apache/spark/examples/sql/streaming/JavaStructuredNetworkWordCount.java\n",
            "spark-2.4.3-bin-hadoop2.6/examples/src/main/java/org/apache/spark/examples/sql/streaming/JavaStructuredNetworkWordCountWindowed.java\n",
            "spark-2.4.3-bin-hadoop2.6/examples/src/main/java/org/apache/spark/examples/sql/streaming/JavaStructuredSessionization.java\n",
            "spark-2.4.3-bin-hadoop2.6/examples/src/main/java/org/apache/spark/examples/sql/JavaSQLDataSourceExample.java\n",
            "spark-2.4.3-bin-hadoop2.6/examples/src/main/java/org/apache/spark/examples/JavaWordCount.java\n",
            "spark-2.4.3-bin-hadoop2.6/examples/src/main/java/org/apache/spark/examples/JavaLogQuery.java\n",
            "spark-2.4.3-bin-hadoop2.6/examples/src/main/java/org/apache/spark/examples/JavaPageRank.java\n",
            "spark-2.4.3-bin-hadoop2.6/examples/src/main/r/\n",
            "spark-2.4.3-bin-hadoop2.6/examples/src/main/r/RSparkSQLExample.R\n",
            "spark-2.4.3-bin-hadoop2.6/examples/src/main/r/ml/\n",
            "spark-2.4.3-bin-hadoop2.6/examples/src/main/r/ml/glm.R\n",
            "spark-2.4.3-bin-hadoop2.6/examples/src/main/r/ml/als.R\n",
            "spark-2.4.3-bin-hadoop2.6/examples/src/main/r/ml/kmeans.R\n",
            "spark-2.4.3-bin-hadoop2.6/examples/src/main/r/ml/mlp.R\n",
            "spark-2.4.3-bin-hadoop2.6/examples/src/main/r/ml/lda.R\n",
            "spark-2.4.3-bin-hadoop2.6/examples/src/main/r/ml/ml.R\n",
            "spark-2.4.3-bin-hadoop2.6/examples/src/main/r/ml/naiveBayes.R\n",
            "spark-2.4.3-bin-hadoop2.6/examples/src/main/r/ml/kstest.R\n",
            "spark-2.4.3-bin-hadoop2.6/examples/src/main/r/ml/gbt.R\n",
            "spark-2.4.3-bin-hadoop2.6/examples/src/main/r/ml/survreg.R\n",
            "spark-2.4.3-bin-hadoop2.6/examples/src/main/r/ml/svmLinear.R\n",
            "spark-2.4.3-bin-hadoop2.6/examples/src/main/r/ml/bisectingKmeans.R\n",
            "spark-2.4.3-bin-hadoop2.6/examples/src/main/r/ml/gaussianMixture.R\n",
            "spark-2.4.3-bin-hadoop2.6/examples/src/main/r/ml/isoreg.R\n",
            "spark-2.4.3-bin-hadoop2.6/examples/src/main/r/ml/randomForest.R\n",
            "spark-2.4.3-bin-hadoop2.6/examples/src/main/r/ml/decisionTree.R\n",
            "spark-2.4.3-bin-hadoop2.6/examples/src/main/r/ml/logit.R\n",
            "spark-2.4.3-bin-hadoop2.6/examples/src/main/r/ml/fpm.R\n",
            "spark-2.4.3-bin-hadoop2.6/examples/src/main/r/data-manipulation.R\n",
            "spark-2.4.3-bin-hadoop2.6/examples/src/main/r/streaming/\n",
            "spark-2.4.3-bin-hadoop2.6/examples/src/main/r/streaming/structured_network_wordcount.R\n",
            "spark-2.4.3-bin-hadoop2.6/examples/src/main/r/dataframe.R\n",
            "spark-2.4.3-bin-hadoop2.6/examples/src/main/resources/\n",
            "spark-2.4.3-bin-hadoop2.6/examples/src/main/resources/people.csv\n",
            "spark-2.4.3-bin-hadoop2.6/examples/src/main/resources/users.avro\n",
            "spark-2.4.3-bin-hadoop2.6/examples/src/main/resources/employees.json\n",
            "spark-2.4.3-bin-hadoop2.6/examples/src/main/resources/full_user.avsc\n",
            "spark-2.4.3-bin-hadoop2.6/examples/src/main/resources/people.json\n",
            "spark-2.4.3-bin-hadoop2.6/examples/src/main/resources/people.txt\n",
            "spark-2.4.3-bin-hadoop2.6/examples/src/main/resources/kv1.txt\n",
            "spark-2.4.3-bin-hadoop2.6/examples/src/main/resources/users.parquet\n",
            "spark-2.4.3-bin-hadoop2.6/examples/src/main/resources/users.orc\n",
            "spark-2.4.3-bin-hadoop2.6/examples/src/main/resources/user.avsc\n",
            "spark-2.4.3-bin-hadoop2.6/NOTICE\n",
            "spark-2.4.3-bin-hadoop2.6/data/\n",
            "spark-2.4.3-bin-hadoop2.6/data/graphx/\n",
            "spark-2.4.3-bin-hadoop2.6/data/graphx/users.txt\n",
            "spark-2.4.3-bin-hadoop2.6/data/graphx/followers.txt\n",
            "spark-2.4.3-bin-hadoop2.6/data/mllib/\n",
            "spark-2.4.3-bin-hadoop2.6/data/mllib/gmm_data.txt\n",
            "spark-2.4.3-bin-hadoop2.6/data/mllib/images/\n",
            "spark-2.4.3-bin-hadoop2.6/data/mllib/images/origin/\n",
            "spark-2.4.3-bin-hadoop2.6/data/mllib/images/origin/multi-channel/\n",
            "spark-2.4.3-bin-hadoop2.6/data/mllib/images/origin/multi-channel/chr30.4.184.jpg\n",
            "spark-2.4.3-bin-hadoop2.6/data/mllib/images/origin/multi-channel/grayscale.jpg\n",
            "spark-2.4.3-bin-hadoop2.6/data/mllib/images/origin/multi-channel/BGRA_alpha_60.png\n",
            "spark-2.4.3-bin-hadoop2.6/data/mllib/images/origin/multi-channel/BGRA.png\n",
            "spark-2.4.3-bin-hadoop2.6/data/mllib/images/origin/kittens/\n",
            "spark-2.4.3-bin-hadoop2.6/data/mllib/images/origin/kittens/DP153539.jpg\n",
            "spark-2.4.3-bin-hadoop2.6/data/mllib/images/origin/kittens/54893.jpg\n",
            "spark-2.4.3-bin-hadoop2.6/data/mllib/images/origin/kittens/not-image.txt\n",
            "spark-2.4.3-bin-hadoop2.6/data/mllib/images/origin/kittens/DP802813.jpg\n",
            "spark-2.4.3-bin-hadoop2.6/data/mllib/images/origin/kittens/29.5.a_b_EGDP022204.jpg\n",
            "spark-2.4.3-bin-hadoop2.6/data/mllib/images/origin/license.txt\n",
            "spark-2.4.3-bin-hadoop2.6/data/mllib/images/license.txt\n",
            "spark-2.4.3-bin-hadoop2.6/data/mllib/images/partitioned/\n",
            "spark-2.4.3-bin-hadoop2.6/data/mllib/images/partitioned/cls=multichannel/\n",
            "spark-2.4.3-bin-hadoop2.6/data/mllib/images/partitioned/cls=multichannel/date=2018-02/\n",
            "spark-2.4.3-bin-hadoop2.6/data/mllib/images/partitioned/cls=multichannel/date=2018-02/chr30.4.184.jpg\n",
            "spark-2.4.3-bin-hadoop2.6/data/mllib/images/partitioned/cls=multichannel/date=2018-02/grayscale.jpg\n",
            "spark-2.4.3-bin-hadoop2.6/data/mllib/images/partitioned/cls=multichannel/date=2018-01/\n",
            "spark-2.4.3-bin-hadoop2.6/data/mllib/images/partitioned/cls=multichannel/date=2018-01/BGRA_alpha_60.png\n",
            "spark-2.4.3-bin-hadoop2.6/data/mllib/images/partitioned/cls=multichannel/date=2018-01/BGRA.png\n",
            "spark-2.4.3-bin-hadoop2.6/data/mllib/images/partitioned/cls=kittens/\n",
            "spark-2.4.3-bin-hadoop2.6/data/mllib/images/partitioned/cls=kittens/date=2018-02/\n",
            "spark-2.4.3-bin-hadoop2.6/data/mllib/images/partitioned/cls=kittens/date=2018-02/DP153539.jpg\n",
            "spark-2.4.3-bin-hadoop2.6/data/mllib/images/partitioned/cls=kittens/date=2018-02/54893.jpg\n",
            "spark-2.4.3-bin-hadoop2.6/data/mllib/images/partitioned/cls=kittens/date=2018-02/DP802813.jpg\n",
            "spark-2.4.3-bin-hadoop2.6/data/mllib/images/partitioned/cls=kittens/date=2018-01/\n",
            "spark-2.4.3-bin-hadoop2.6/data/mllib/images/partitioned/cls=kittens/date=2018-01/not-image.txt\n",
            "spark-2.4.3-bin-hadoop2.6/data/mllib/images/partitioned/cls=kittens/date=2018-01/29.5.a_b_EGDP022204.jpg\n",
            "spark-2.4.3-bin-hadoop2.6/data/mllib/sample_linear_regression_data.txt\n",
            "spark-2.4.3-bin-hadoop2.6/data/mllib/sample_lda_data.txt\n",
            "spark-2.4.3-bin-hadoop2.6/data/mllib/kmeans_data.txt\n",
            "spark-2.4.3-bin-hadoop2.6/data/mllib/sample_svm_data.txt\n",
            "spark-2.4.3-bin-hadoop2.6/data/mllib/streaming_kmeans_data_test.txt\n",
            "spark-2.4.3-bin-hadoop2.6/data/mllib/sample_kmeans_data.txt\n",
            "spark-2.4.3-bin-hadoop2.6/data/mllib/sample_multiclass_classification_data.txt\n",
            "spark-2.4.3-bin-hadoop2.6/data/mllib/sample_fpgrowth.txt\n",
            "spark-2.4.3-bin-hadoop2.6/data/mllib/pic_data.txt\n",
            "spark-2.4.3-bin-hadoop2.6/data/mllib/pagerank_data.txt\n",
            "spark-2.4.3-bin-hadoop2.6/data/mllib/sample_isotonic_regression_libsvm_data.txt\n",
            "spark-2.4.3-bin-hadoop2.6/data/mllib/als/\n",
            "spark-2.4.3-bin-hadoop2.6/data/mllib/als/test.data\n",
            "spark-2.4.3-bin-hadoop2.6/data/mllib/als/sample_movielens_ratings.txt\n",
            "spark-2.4.3-bin-hadoop2.6/data/mllib/sample_lda_libsvm_data.txt\n",
            "spark-2.4.3-bin-hadoop2.6/data/mllib/sample_binary_classification_data.txt\n",
            "spark-2.4.3-bin-hadoop2.6/data/mllib/ridge-data/\n",
            "spark-2.4.3-bin-hadoop2.6/data/mllib/ridge-data/lpsa.data\n",
            "spark-2.4.3-bin-hadoop2.6/data/mllib/sample_movielens_data.txt\n",
            "spark-2.4.3-bin-hadoop2.6/data/mllib/iris_libsvm.txt\n",
            "spark-2.4.3-bin-hadoop2.6/data/mllib/sample_libsvm_data.txt\n",
            "spark-2.4.3-bin-hadoop2.6/data/streaming/\n",
            "spark-2.4.3-bin-hadoop2.6/data/streaming/AFINN-111.txt\n",
            "spark-2.4.3-bin-hadoop2.6/README.md\n",
            "spark-2.4.3-bin-hadoop2.6/LICENSE\n"
          ],
          "name": "stdout"
        }
      ]
    },
    {
      "cell_type": "markdown",
      "metadata": {
        "id": "5DTILBUXmGnd",
        "colab_type": "text"
      },
      "source": [
        "## Test Spark"
      ]
    },
    {
      "cell_type": "code",
      "metadata": {
        "id": "2HwI_t-bl23c",
        "colab_type": "code",
        "outputId": "74038e2f-608b-49d9-9a60-efa03e4379b6",
        "colab": {
          "base_uri": "https://localhost:8080/",
          "height": 170
        }
      },
      "source": [
        "df = spark.createDataFrame([{\"Google\": \"Colab\",\"Spark\": \"Scala\"} ,{\"Google\": \"Dataproc\",\"Spark\":\"Python\"}])\n",
        "df.show()"
      ],
      "execution_count": 0,
      "outputs": [
        {
          "output_type": "stream",
          "text": [
            "/content/spark-2.4.4-bin-hadoop2.7/python/pyspark/sql/session.py:346: UserWarning: inferring schema from dict is deprecated,please use pyspark.sql.Row instead\n",
            "  warnings.warn(\"inferring schema from dict is deprecated,\"\n"
          ],
          "name": "stderr"
        },
        {
          "output_type": "stream",
          "text": [
            "+--------+------+\n",
            "|  Google| Spark|\n",
            "+--------+------+\n",
            "|   Colab| Scala|\n",
            "|Dataproc|Python|\n",
            "+--------+------+\n",
            "\n"
          ],
          "name": "stdout"
        }
      ]
    },
    {
      "cell_type": "markdown",
      "metadata": {
        "id": "qSv6b2NWkohX",
        "colab_type": "text"
      },
      "source": [
        "## Copy a data file to your local Colab environment"
      ]
    },
    {
      "cell_type": "code",
      "metadata": {
        "id": "7aQQFrZjkkks",
        "colab_type": "code",
        "outputId": "939fdfe6-f53a-4077-f4a0-d61b41c35c59",
        "colab": {
          "base_uri": "https://localhost:8080/",
          "height": 202
        }
      },
      "source": [
        "!wget https://raw.githubusercontent.com/futurexskill/bidata/master/retailstore.csv"
      ],
      "execution_count": 2,
      "outputs": [
        {
          "output_type": "stream",
          "text": [
            "--2020-04-27 08:27:51--  https://raw.githubusercontent.com/futurexskill/bidata/master/retailstore.csv\n",
            "Resolving raw.githubusercontent.com (raw.githubusercontent.com)... 151.101.0.133, 151.101.64.133, 151.101.128.133, ...\n",
            "Connecting to raw.githubusercontent.com (raw.githubusercontent.com)|151.101.0.133|:443... connected.\n",
            "HTTP request sent, awaiting response... 200 OK\n",
            "Length: 279 [text/plain]\n",
            "Saving to: ‘retailstore.csv’\n",
            "\n",
            "\rretailstore.csv       0%[                    ]       0  --.-KB/s               \rretailstore.csv     100%[===================>]     279  --.-KB/s    in 0s      \n",
            "\n",
            "2020-04-27 08:27:51 (46.5 MB/s) - ‘retailstore.csv’ saved [279/279]\n",
            "\n"
          ],
          "name": "stdout"
        }
      ]
    },
    {
      "cell_type": "markdown",
      "metadata": {
        "id": "JZJdUTuOkv11",
        "colab_type": "text"
      },
      "source": [
        "## Check if the file is copied"
      ]
    },
    {
      "cell_type": "code",
      "metadata": {
        "id": "JW0FddNtmEYU",
        "colab_type": "code",
        "outputId": "53d5ebdf-8a5c-44ad-f5cf-254a39739557",
        "colab": {
          "base_uri": "https://localhost:8080/",
          "height": 50
        }
      },
      "source": [
        "!ls"
      ],
      "execution_count": 3,
      "outputs": [
        {
          "output_type": "stream",
          "text": [
            "retailstore.csv  spark-2.4.3-bin-hadoop2.6\n",
            "sample_data\t spark-2.4.3-bin-hadoop2.6.tgz\n"
          ],
          "name": "stdout"
        }
      ]
    },
    {
      "cell_type": "markdown",
      "metadata": {
        "id": "gARiNx3j_RxK",
        "colab_type": "text"
      },
      "source": [
        "# Resilient Distributed Dataset (RDD)"
      ]
    },
    {
      "cell_type": "markdown",
      "metadata": {
        "id": "wRkf0reuES6H",
        "colab_type": "text"
      },
      "source": [
        "## Import SparkContext and SparkConf"
      ]
    },
    {
      "cell_type": "code",
      "metadata": {
        "id": "cSlEG6RFEAuf",
        "colab_type": "code",
        "colab": {}
      },
      "source": [
        "from pyspark import SparkContext\n"
      ],
      "execution_count": 0,
      "outputs": []
    },
    {
      "cell_type": "markdown",
      "metadata": {
        "id": "IZ4rUv8GHuYX",
        "colab_type": "text"
      },
      "source": [
        "## Create Spark Context from Spark Session"
      ]
    },
    {
      "cell_type": "code",
      "metadata": {
        "id": "xoh8EV5UEoWH",
        "colab_type": "code",
        "colab": {}
      },
      "source": [
        "sc = spark.sparkContext"
      ],
      "execution_count": 0,
      "outputs": []
    },
    {
      "cell_type": "markdown",
      "metadata": {
        "id": "Qd1eDAARH7AY",
        "colab_type": "text"
      },
      "source": [
        "## Create a RDD from Python List"
      ]
    },
    {
      "cell_type": "code",
      "metadata": {
        "id": "8IkEdzDRH2bb",
        "colab_type": "code",
        "colab": {}
      },
      "source": [
        "sampleRDD = sc.parallelize([10,20,30,40,50,60])\n"
      ],
      "execution_count": 0,
      "outputs": []
    },
    {
      "cell_type": "code",
      "metadata": {
        "id": "Zrxx6ssFsoT6",
        "colab_type": "code",
        "outputId": "400cdfba-a38b-42e0-8513-b06c8f6c24a2",
        "colab": {
          "base_uri": "https://localhost:8080/",
          "height": 34
        }
      },
      "source": [
        "type(sampleRDD)"
      ],
      "execution_count": 7,
      "outputs": [
        {
          "output_type": "execute_result",
          "data": {
            "text/plain": [
              "pyspark.rdd.RDD"
            ]
          },
          "metadata": {
            "tags": []
          },
          "execution_count": 7
        }
      ]
    },
    {
      "cell_type": "code",
      "metadata": {
        "id": "uhi_KZvPIBPz",
        "colab_type": "code",
        "outputId": "192e1f19-f0e9-43e9-8183-4f6e65dfd1af",
        "colab": {
          "base_uri": "https://localhost:8080/",
          "height": 34
        }
      },
      "source": [
        "sampleRDD.collect()"
      ],
      "execution_count": 8,
      "outputs": [
        {
          "output_type": "execute_result",
          "data": {
            "text/plain": [
              "[10, 20, 30, 40, 50, 60]"
            ]
          },
          "metadata": {
            "tags": []
          },
          "execution_count": 8
        }
      ]
    },
    {
      "cell_type": "markdown",
      "metadata": {
        "id": "ChK5OKRmINsk",
        "colab_type": "text"
      },
      "source": [
        "## Read the CSV file into a RDD"
      ]
    },
    {
      "cell_type": "code",
      "metadata": {
        "id": "t7MuXKs7IRhR",
        "colab_type": "code",
        "colab": {}
      },
      "source": [
        "customerData = sc.textFile(\"retailstore.csv\")\n"
      ],
      "execution_count": 0,
      "outputs": []
    },
    {
      "cell_type": "code",
      "metadata": {
        "id": "hJdPofv_IcEI",
        "colab_type": "code",
        "outputId": "424bd3c6-c998-4373-f15a-31afcaa4292e",
        "colab": {
          "base_uri": "https://localhost:8080/",
          "height": 34
        }
      },
      "source": [
        "type(customerData)"
      ],
      "execution_count": 10,
      "outputs": [
        {
          "output_type": "execute_result",
          "data": {
            "text/plain": [
              "pyspark.rdd.RDD"
            ]
          },
          "metadata": {
            "tags": []
          },
          "execution_count": 10
        }
      ]
    },
    {
      "cell_type": "markdown",
      "metadata": {
        "id": "g4-jBdjyIoBr",
        "colab_type": "text"
      },
      "source": [
        "## Perform RDD Operations"
      ]
    },
    {
      "cell_type": "markdown",
      "metadata": {
        "id": "DCz9dI4JI3Eb",
        "colab_type": "text"
      },
      "source": [
        "Print all records"
      ]
    },
    {
      "cell_type": "code",
      "metadata": {
        "id": "_-7R93eXIf5I",
        "colab_type": "code",
        "outputId": "9ffd038e-36d9-474e-a487-a8053692d564",
        "colab": {
          "base_uri": "https://localhost:8080/",
          "height": 202
        }
      },
      "source": [
        "customerData.collect()"
      ],
      "execution_count": 11,
      "outputs": [
        {
          "output_type": "execute_result",
          "data": {
            "text/plain": [
              "['Age,Salary,Gender,Country,Purchased',\n",
              " '18,20000,Male,Germany,N',\n",
              " '19,22000,Female,France,N',\n",
              " '20,24000,Female,England,N',\n",
              " '21,,Male,England,N',\n",
              " '22,50000,Male,France,Y',\n",
              " '23,35000,Female,England,N',\n",
              " '24,,Male,Germany,N',\n",
              " '25,32000,Female,France,Y',\n",
              " ',35000,Male,Germany,N',\n",
              " '27,37000,Female,France,N']"
            ]
          },
          "metadata": {
            "tags": []
          },
          "execution_count": 11
        }
      ]
    },
    {
      "cell_type": "markdown",
      "metadata": {
        "id": "_uUTS36BI5sn",
        "colab_type": "text"
      },
      "source": [
        "Print count"
      ]
    },
    {
      "cell_type": "code",
      "metadata": {
        "id": "LUc2KiTIIst3",
        "colab_type": "code",
        "outputId": "e22ad31d-8a87-4e04-d0a3-b850b93bedae",
        "colab": {
          "base_uri": "https://localhost:8080/",
          "height": 34
        }
      },
      "source": [
        "customerData.count()\n"
      ],
      "execution_count": 12,
      "outputs": [
        {
          "output_type": "execute_result",
          "data": {
            "text/plain": [
              "11"
            ]
          },
          "metadata": {
            "tags": []
          },
          "execution_count": 12
        }
      ]
    },
    {
      "cell_type": "markdown",
      "metadata": {
        "id": "aqQXw6_0I70u",
        "colab_type": "text"
      },
      "source": [
        "Print the fist row"
      ]
    },
    {
      "cell_type": "code",
      "metadata": {
        "id": "lneoMvXOIvu2",
        "colab_type": "code",
        "outputId": "2207a456-88c0-4222-8a37-ae74cb3da812",
        "colab": {
          "base_uri": "https://localhost:8080/",
          "height": 34
        }
      },
      "source": [
        "customerData.first()\n"
      ],
      "execution_count": 13,
      "outputs": [
        {
          "output_type": "execute_result",
          "data": {
            "text/plain": [
              "'Age,Salary,Gender,Country,Purchased'"
            ]
          },
          "metadata": {
            "tags": []
          },
          "execution_count": 13
        }
      ]
    },
    {
      "cell_type": "markdown",
      "metadata": {
        "id": "SJAJ7xksI-AT",
        "colab_type": "text"
      },
      "source": [
        "Fetch the first 3 rows"
      ]
    },
    {
      "cell_type": "code",
      "metadata": {
        "id": "R2yRimYFIxSl",
        "colab_type": "code",
        "outputId": "aeb95745-063f-40e6-a0d0-575fce1f955d",
        "colab": {
          "base_uri": "https://localhost:8080/",
          "height": 67
        }
      },
      "source": [
        "customerData.take(3)\n"
      ],
      "execution_count": 14,
      "outputs": [
        {
          "output_type": "execute_result",
          "data": {
            "text/plain": [
              "['Age,Salary,Gender,Country,Purchased',\n",
              " '18,20000,Male,Germany,N',\n",
              " '19,22000,Female,France,N']"
            ]
          },
          "metadata": {
            "tags": []
          },
          "execution_count": 14
        }
      ]
    },
    {
      "cell_type": "markdown",
      "metadata": {
        "id": "DABYu7cEKJBB",
        "colab_type": "text"
      },
      "source": [
        "Print each row"
      ]
    },
    {
      "cell_type": "code",
      "metadata": {
        "id": "h2QJtAOZJN4Z",
        "colab_type": "code",
        "outputId": "f3b6d734-1dc4-428d-ca76-14f1605ed853",
        "colab": {
          "base_uri": "https://localhost:8080/",
          "height": 202
        }
      },
      "source": [
        "for line in customerData.collect():\n",
        "    print(line)\n"
      ],
      "execution_count": 15,
      "outputs": [
        {
          "output_type": "stream",
          "text": [
            "Age,Salary,Gender,Country,Purchased\n",
            "18,20000,Male,Germany,N\n",
            "19,22000,Female,France,N\n",
            "20,24000,Female,England,N\n",
            "21,,Male,England,N\n",
            "22,50000,Male,France,Y\n",
            "23,35000,Female,England,N\n",
            "24,,Male,Germany,N\n",
            "25,32000,Female,France,Y\n",
            ",35000,Male,Germany,N\n",
            "27,37000,Female,France,N\n"
          ],
          "name": "stdout"
        }
      ]
    },
    {
      "cell_type": "markdown",
      "metadata": {
        "id": "CUA6QdS_Culo",
        "colab_type": "text"
      },
      "source": [
        "### Map"
      ]
    },
    {
      "cell_type": "markdown",
      "metadata": {
        "id": "T81VCk85KMnD",
        "colab_type": "text"
      },
      "source": [
        "Replace \"Male\" with \"M\""
      ]
    },
    {
      "cell_type": "code",
      "metadata": {
        "id": "qZD_qXmoJ5wv",
        "colab_type": "code",
        "colab": {}
      },
      "source": [
        "customerData2 = customerData.map(lambda x : x.replace(\"Male\",\"M\"))"
      ],
      "execution_count": 0,
      "outputs": []
    },
    {
      "cell_type": "markdown",
      "metadata": {
        "id": "c1-a_tOeDDbi",
        "colab_type": "text"
      },
      "source": [
        ""
      ]
    },
    {
      "cell_type": "code",
      "metadata": {
        "id": "S5pR023-KDfL",
        "colab_type": "code",
        "outputId": "ab1b5efd-9642-4f17-8db1-82f93cc29556",
        "colab": {
          "base_uri": "https://localhost:8080/",
          "height": 202
        }
      },
      "source": [
        "customerData2.collect()"
      ],
      "execution_count": 17,
      "outputs": [
        {
          "output_type": "execute_result",
          "data": {
            "text/plain": [
              "['Age,Salary,Gender,Country,Purchased',\n",
              " '18,20000,M,Germany,N',\n",
              " '19,22000,Female,France,N',\n",
              " '20,24000,Female,England,N',\n",
              " '21,,M,England,N',\n",
              " '22,50000,M,France,Y',\n",
              " '23,35000,Female,England,N',\n",
              " '24,,M,Germany,N',\n",
              " '25,32000,Female,France,Y',\n",
              " ',35000,M,Germany,N',\n",
              " '27,37000,Female,France,N']"
            ]
          },
          "metadata": {
            "tags": []
          },
          "execution_count": 17
        }
      ]
    },
    {
      "cell_type": "markdown",
      "metadata": {
        "id": "WCXMrYX-C0l5",
        "colab_type": "text"
      },
      "source": [
        "### Filter"
      ]
    },
    {
      "cell_type": "markdown",
      "metadata": {
        "id": "nN2qHRBmAhsQ",
        "colab_type": "text"
      },
      "source": [
        "Display only females"
      ]
    },
    {
      "cell_type": "code",
      "metadata": {
        "id": "SzCcREJIAYky",
        "colab_type": "code",
        "colab": {}
      },
      "source": [
        "femaleCustomers=customerData.filter(lambda x: \"Female\" in x)\n"
      ],
      "execution_count": 0,
      "outputs": []
    },
    {
      "cell_type": "code",
      "metadata": {
        "id": "zSa29T5pApF0",
        "colab_type": "code",
        "outputId": "1f3539df-985f-443f-a49b-738a6900f785",
        "colab": {
          "base_uri": "https://localhost:8080/",
          "height": 101
        }
      },
      "source": [
        "femaleCustomers.collect()"
      ],
      "execution_count": 19,
      "outputs": [
        {
          "output_type": "execute_result",
          "data": {
            "text/plain": [
              "['19,22000,Female,France,N',\n",
              " '20,24000,Female,England,N',\n",
              " '23,35000,Female,England,N',\n",
              " '25,32000,Female,France,Y',\n",
              " '27,37000,Female,France,N']"
            ]
          },
          "metadata": {
            "tags": []
          },
          "execution_count": 19
        }
      ]
    },
    {
      "cell_type": "code",
      "metadata": {
        "id": "PNo-gvgxBYZz",
        "colab_type": "code",
        "outputId": "6a3bffba-1770-401c-dac9-0cf5deff49d2",
        "colab": {
          "base_uri": "https://localhost:8080/",
          "height": 34
        }
      },
      "source": [
        "femaleCustomers.count()"
      ],
      "execution_count": 20,
      "outputs": [
        {
          "output_type": "execute_result",
          "data": {
            "text/plain": [
              "5"
            ]
          },
          "metadata": {
            "tags": []
          },
          "execution_count": 20
        }
      ]
    },
    {
      "cell_type": "markdown",
      "metadata": {
        "id": "xF_UZ7zvC46t",
        "colab_type": "text"
      },
      "source": [
        "### flatMap"
      ]
    },
    {
      "cell_type": "markdown",
      "metadata": {
        "id": "5I7FYp25BfU9",
        "colab_type": "text"
      },
      "source": [
        "Create a new RDD by splitting each row with comma delimeter"
      ]
    },
    {
      "cell_type": "code",
      "metadata": {
        "id": "FtlMc80FBWYY",
        "colab_type": "code",
        "colab": {}
      },
      "source": [
        "words=femaleCustomers.flatMap(lambda line: line.split(\",\"))"
      ],
      "execution_count": 0,
      "outputs": []
    },
    {
      "cell_type": "code",
      "metadata": {
        "id": "MUfzJag7Bq0K",
        "colab_type": "code",
        "outputId": "3d71d9da-65ed-425c-97d8-e38e1374fe8c",
        "colab": {
          "base_uri": "https://localhost:8080/",
          "height": 34
        }
      },
      "source": [
        "words.count()"
      ],
      "execution_count": 22,
      "outputs": [
        {
          "output_type": "execute_result",
          "data": {
            "text/plain": [
              "25"
            ]
          },
          "metadata": {
            "tags": []
          },
          "execution_count": 22
        }
      ]
    },
    {
      "cell_type": "code",
      "metadata": {
        "id": "aTcfman5BnRM",
        "colab_type": "code",
        "outputId": "55587e90-21db-4172-f3d4-990418d90957",
        "colab": {
          "base_uri": "https://localhost:8080/",
          "height": 437
        }
      },
      "source": [
        "words.collect()"
      ],
      "execution_count": 23,
      "outputs": [
        {
          "output_type": "execute_result",
          "data": {
            "text/plain": [
              "['19',\n",
              " '22000',\n",
              " 'Female',\n",
              " 'France',\n",
              " 'N',\n",
              " '20',\n",
              " '24000',\n",
              " 'Female',\n",
              " 'England',\n",
              " 'N',\n",
              " '23',\n",
              " '35000',\n",
              " 'Female',\n",
              " 'England',\n",
              " 'N',\n",
              " '25',\n",
              " '32000',\n",
              " 'Female',\n",
              " 'France',\n",
              " 'Y',\n",
              " '27',\n",
              " '37000',\n",
              " 'Female',\n",
              " 'France',\n",
              " 'N']"
            ]
          },
          "metadata": {
            "tags": []
          },
          "execution_count": 23
        }
      ]
    },
    {
      "cell_type": "markdown",
      "metadata": {
        "id": "Bux-9ZOUDCqs",
        "colab_type": "text"
      },
      "source": [
        "### Set - Union & Intersection"
      ]
    },
    {
      "cell_type": "code",
      "metadata": {
        "id": "pOyT73a7DHYk",
        "colab_type": "code",
        "colab": {}
      },
      "source": [
        "rdd1 = sc.parallelize([\"a\",\"b\",\"c\",\"d\",\"e\"])\n",
        "rdd2 = sc.parallelize([\"c\",\"e\",\"k\",\"l\"])\n"
      ],
      "execution_count": 0,
      "outputs": []
    },
    {
      "cell_type": "markdown",
      "metadata": {
        "id": "t5ry0MdQDiEN",
        "colab_type": "text"
      },
      "source": [
        "Perform Union operation"
      ]
    },
    {
      "cell_type": "code",
      "metadata": {
        "id": "NvL7Kp-GDY0L",
        "colab_type": "code",
        "outputId": "fba3ffc3-3e41-4cd5-8bb8-c7f81da8a65f",
        "colab": {
          "base_uri": "https://localhost:8080/",
          "height": 134
        }
      },
      "source": [
        "for unions in rdd1.union(rdd2).distinct().collect():\n",
        "    print(unions)"
      ],
      "execution_count": 25,
      "outputs": [
        {
          "output_type": "stream",
          "text": [
            "b\n",
            "c\n",
            "l\n",
            "a\n",
            "e\n",
            "d\n",
            "k\n"
          ],
          "name": "stdout"
        }
      ]
    },
    {
      "cell_type": "markdown",
      "metadata": {
        "id": "G2Thmq8sDlLY",
        "colab_type": "text"
      },
      "source": [
        "Perform Intersection operation"
      ]
    },
    {
      "cell_type": "code",
      "metadata": {
        "id": "enbKUL0yDoJW",
        "colab_type": "code",
        "outputId": "78719d8e-8b2f-4c95-e8b3-4c2df33ee535",
        "colab": {
          "base_uri": "https://localhost:8080/",
          "height": 50
        }
      },
      "source": [
        "for intersects in rdd1.intersection(rdd2).collect():\n",
        "    print(intersects)"
      ],
      "execution_count": 26,
      "outputs": [
        {
          "output_type": "stream",
          "text": [
            "c\n",
            "e\n"
          ],
          "name": "stdout"
        }
      ]
    },
    {
      "cell_type": "markdown",
      "metadata": {
        "id": "NhCbz1SYE_Yo",
        "colab_type": "text"
      },
      "source": [
        "### Transformation using function"
      ]
    },
    {
      "cell_type": "code",
      "metadata": {
        "id": "uzdzDOZbFE9j",
        "colab_type": "code",
        "outputId": "cf303960-1a54-49c4-9c15-3a15aa36f336",
        "colab": {
          "base_uri": "https://localhost:8080/",
          "height": 202
        }
      },
      "source": [
        "customerData.collect()"
      ],
      "execution_count": 27,
      "outputs": [
        {
          "output_type": "execute_result",
          "data": {
            "text/plain": [
              "['Age,Salary,Gender,Country,Purchased',\n",
              " '18,20000,Male,Germany,N',\n",
              " '19,22000,Female,France,N',\n",
              " '20,24000,Female,England,N',\n",
              " '21,,Male,England,N',\n",
              " '22,50000,Male,France,Y',\n",
              " '23,35000,Female,England,N',\n",
              " '24,,Male,Germany,N',\n",
              " '25,32000,Female,France,Y',\n",
              " ',35000,Male,Germany,N',\n",
              " '27,37000,Female,France,N']"
            ]
          },
          "metadata": {
            "tags": []
          },
          "execution_count": 27
        }
      ]
    },
    {
      "cell_type": "markdown",
      "metadata": {
        "id": "GLM_mtALGNd2",
        "colab_type": "text"
      },
      "source": [
        "Define the transformation method"
      ]
    },
    {
      "cell_type": "code",
      "metadata": {
        "id": "6FQtiykfFP7Z",
        "colab_type": "code",
        "colab": {}
      },
      "source": [
        "def transformRDD(customer) :\n",
        "    words =customer.split(\",\")\n",
        "    #convert male to 0 and female to 1\n",
        "    if words[2] == \"Male\" :\n",
        "         words[2]=\"0\"\n",
        "    else :\n",
        "         words[2]=\"1\"\n",
        "    #Convert N to 0 and Y to 1 for the purchased value\n",
        "    if words[4] == \"N\" :\n",
        "         words[4]=\"0\"\n",
        "    else :\n",
        "         words[4]=\"1\"\n",
        "    #Convert Country to upper case        \n",
        "    words[3] = words[3].upper()\n",
        "    return \",\".join(words)\n"
      ],
      "execution_count": 0,
      "outputs": []
    },
    {
      "cell_type": "markdown",
      "metadata": {
        "id": "Be7yheMiGwE_",
        "colab_type": "text"
      },
      "source": [
        "Apply transformation using map"
      ]
    },
    {
      "cell_type": "code",
      "metadata": {
        "id": "96SBkdZ8GRw9",
        "colab_type": "code",
        "colab": {}
      },
      "source": [
        "transformedCustData=customerData.map(transformRDD)\n"
      ],
      "execution_count": 0,
      "outputs": []
    },
    {
      "cell_type": "code",
      "metadata": {
        "id": "rmttdq_sG1Ru",
        "colab_type": "code",
        "outputId": "c86baeb7-ec1b-4ad2-8434-58c300190ad6",
        "colab": {
          "base_uri": "https://localhost:8080/",
          "height": 202
        }
      },
      "source": [
        "transformedCustData.collect()"
      ],
      "execution_count": 30,
      "outputs": [
        {
          "output_type": "execute_result",
          "data": {
            "text/plain": [
              "['Age,Salary,1,COUNTRY,1',\n",
              " '18,20000,0,GERMANY,0',\n",
              " '19,22000,1,FRANCE,0',\n",
              " '20,24000,1,ENGLAND,0',\n",
              " '21,,0,ENGLAND,0',\n",
              " '22,50000,0,FRANCE,1',\n",
              " '23,35000,1,ENGLAND,0',\n",
              " '24,,0,GERMANY,0',\n",
              " '25,32000,1,FRANCE,1',\n",
              " ',35000,0,GERMANY,0',\n",
              " '27,37000,1,FRANCE,0']"
            ]
          },
          "metadata": {
            "tags": []
          },
          "execution_count": 30
        }
      ]
    },
    {
      "cell_type": "markdown",
      "metadata": {
        "id": "usTwYwTs_wcX",
        "colab_type": "text"
      },
      "source": [
        "## reduce"
      ]
    },
    {
      "cell_type": "code",
      "metadata": {
        "id": "9IFAsRR9_xPX",
        "colab_type": "code",
        "colab": {}
      },
      "source": [
        "sampleRDD = sc.parallelize([10, 20, 30,40]) "
      ],
      "execution_count": 0,
      "outputs": []
    },
    {
      "cell_type": "code",
      "metadata": {
        "id": "e_jhcAw-_3d_",
        "colab_type": "code",
        "outputId": "a3ee749c-249a-497a-cddd-b3bb4cc0bd92",
        "colab": {
          "base_uri": "https://localhost:8080/",
          "height": 34
        }
      },
      "source": [
        "sampleRDD.reduce(lambda a, b: a + b)\n"
      ],
      "execution_count": 32,
      "outputs": [
        {
          "output_type": "execute_result",
          "data": {
            "text/plain": [
              "100"
            ]
          },
          "metadata": {
            "tags": []
          },
          "execution_count": 32
        }
      ]
    },
    {
      "cell_type": "code",
      "metadata": {
        "id": "8uVO7Lr3_67B",
        "colab_type": "code",
        "colab": {}
      },
      "source": [
        ""
      ],
      "execution_count": 0,
      "outputs": []
    }
  ]
}